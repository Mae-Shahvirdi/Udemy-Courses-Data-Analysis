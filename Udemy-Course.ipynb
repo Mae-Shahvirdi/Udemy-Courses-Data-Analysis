{
 "cells": [
  {
   "cell_type": "markdown",
   "id": "ad3f24e2-aa06-40f7-bff7-c20b2168936f",
   "metadata": {},
   "source": [
    "# Udemy Course Data Analysis\n",
    "### This script performs data cleaning, analysis, and visualization on Udemy courses data. \n",
    "### We explore pricing trends, subscriber counts, course structures, and publishing trends.\n",
    "\n",
    "## Steps Coverd:\n",
    "### 1.Installing Kaggle and importing the data set\n",
    "### 2.Import Libraries\n",
    "### 3.Data Cleaning and Processing\n",
    "### 4. Data Analysis and Visualizations\n",
    "### 5. Export Cleaned Data for Tableau"
   ]
  },
  {
   "cell_type": "markdown",
   "id": "2165652e-9538-4b5c-acb6-4f5fc94f6424",
   "metadata": {},
   "source": [
    "# 1.Installing Kaggle and importing the data set"
   ]
  },
  {
   "cell_type": "code",
   "execution_count": 216,
   "id": "2b42c7b3-1dcf-4138-894d-ca3d699922d2",
   "metadata": {},
   "outputs": [
    {
     "name": "stdout",
     "output_type": "stream",
     "text": [
      "Requirement already satisfied: kaggle in /opt/anaconda3/lib/python3.11/site-packages (1.6.17)\n",
      "Requirement already satisfied: six>=1.10 in /opt/anaconda3/lib/python3.11/site-packages (from kaggle) (1.16.0)\n",
      "Requirement already satisfied: certifi>=2023.7.22 in /opt/anaconda3/lib/python3.11/site-packages (from kaggle) (2025.1.31)\n",
      "Requirement already satisfied: python-dateutil in /opt/anaconda3/lib/python3.11/site-packages (from kaggle) (2.8.2)\n",
      "Requirement already satisfied: requests in /opt/anaconda3/lib/python3.11/site-packages (from kaggle) (2.31.0)\n",
      "Requirement already satisfied: tqdm in /opt/anaconda3/lib/python3.11/site-packages (from kaggle) (4.65.0)\n",
      "Requirement already satisfied: python-slugify in /opt/anaconda3/lib/python3.11/site-packages (from kaggle) (5.0.2)\n",
      "Requirement already satisfied: urllib3 in /opt/anaconda3/lib/python3.11/site-packages (from kaggle) (2.0.7)\n",
      "Requirement already satisfied: bleach in /opt/anaconda3/lib/python3.11/site-packages (from kaggle) (4.1.0)\n",
      "Requirement already satisfied: packaging in /opt/anaconda3/lib/python3.11/site-packages (from bleach->kaggle) (23.1)\n",
      "Requirement already satisfied: webencodings in /opt/anaconda3/lib/python3.11/site-packages (from bleach->kaggle) (0.5.1)\n",
      "Requirement already satisfied: text-unidecode>=1.3 in /opt/anaconda3/lib/python3.11/site-packages (from python-slugify->kaggle) (1.3)\n",
      "Requirement already satisfied: charset-normalizer<4,>=2 in /opt/anaconda3/lib/python3.11/site-packages (from requests->kaggle) (2.0.4)\n",
      "Requirement already satisfied: idna<4,>=2.5 in /opt/anaconda3/lib/python3.11/site-packages (from requests->kaggle) (3.4)\n"
     ]
    }
   ],
   "source": [
    "# Install kaggle API\n",
    "!pip install kaggle"
   ]
  },
  {
   "cell_type": "code",
   "execution_count": 218,
   "id": "13e8c1cc-b549-4e70-b259-cac5df99277d",
   "metadata": {},
   "outputs": [
    {
     "name": "stdout",
     "output_type": "stream",
     "text": [
      "Kaggle API is installed\n"
     ]
    }
   ],
   "source": [
    "# verify kaggle is installed\n",
    "import kaggle\n",
    "print(\"Kaggle API is installed\")"
   ]
  },
  {
   "cell_type": "code",
   "execution_count": 220,
   "id": "22866cd6-c4c6-4d9d-88d7-acd7910a3ad2",
   "metadata": {},
   "outputs": [
    {
     "name": "stdout",
     "output_type": "stream",
     "text": [
      "ref                                                              title                                             size  lastUpdated          downloadCount  voteCount  usabilityRating  \n",
      "---------------------------------------------------------------  -----------------------------------------------  -----  -------------------  -------------  ---------  ---------------  \n",
      "abdulmalik1518/mobiles-dataset-2025                              Mobiles Dataset (2025)                            20KB  2025-02-18 06:50:24           6184        106  1.0              \n",
      "asinow/car-price-dataset                                         Car Price Dataset                                135KB  2025-01-26 19:53:28          22998        370  1.0              \n",
      "mahmoudelhemaly/students-grading-dataset                         Student Performance & Behavior Dataset           508KB  2025-02-17 17:38:46           4980         98  1.0              \n",
      "samikshadalvi/lungs-diseases-dataset                             Lungs Diseases Dataset                            40KB  2025-02-25 01:51:36           1261         30  1.0              \n",
      "ankushpanday2/colorectal-cancer-global-dataset-and-predictions   Colorectal Cancer Global Dataset & Predictions     4MB  2025-02-27 18:30:45            883         24  1.0              \n",
      "asinow/diabetes-dataset                                          Diabetes Dataset                                 224KB  2025-02-20 08:38:56           3318         57  1.0              \n",
      "vinothkannaece/sales-dataset                                     sales dataset                                     27KB  2025-02-18 05:13:42           4642         67  1.0              \n",
      "ak0212/indian-car-market-dataset                                 Indian Car Market Dataset 🚗                      140KB  2025-02-18 04:20:32           1289         24  1.0              \n",
      "mohitbansal31s/pokemon-dataset                                   Pokemon dataset                                   22KB  2025-02-21 03:15:54           1374         31  1.0              \n",
      "viditgupta7/power-bi-sales-analysis-dashboard-for-nike-us        Power BI Sales Analysis Dashboard for Nike US    519KB  2025-03-02 18:40:58            431         22  0.9375           \n",
      "adilshamim8/student-performance-and-learning-style               Student Performance & Learning Style             148KB  2025-02-12 06:12:07           2245         38  1.0              \n",
      "adilshamim8/workout-and-fitness-tracker-data                     Workout & Fitness Tracker Dataset                272KB  2025-02-08 06:11:18           2124         34  1.0              \n",
      "willianoliveiragibin/netflix-interactive                         Netflix interactive                              441KB  2025-02-15 17:07:34           1193         29  1.0              \n",
      "ankushpanday2/heart-attack-risk-and-prediction-dataset-in-india  Heart Attack Risk & Prediction Dataset In India  269KB  2025-02-25 16:53:26           1332         26  1.0              \n",
      "himelsarder/coffee-shop-daily-revenue-prediction-dataset         Coffee Shop Daily Revenue Prediction Dataset      30KB  2025-02-07 07:29:16           2725         32  1.0              \n",
      "deadier/play-games-and-success-in-students                       Games and Success in Students                      4KB  2025-02-19 07:16:07            822         26  0.8235294        \n",
      "anandshaw2001/top-spotify-songs-in-73-countries                  Top Spotify Songs in 73 Countries                132MB  2025-02-18 17:18:42           1391         33  1.0              \n",
      "samayashar/fraud-detection-transactions-dataset                  Fraud Detection Transactions Dataset               2MB  2025-02-21 18:06:23           1859         35  1.0              \n",
      "adilshamim8/education-and-career-success                         Education & Career Success.                      118KB  2025-02-03 05:24:20           5867         77  1.0              \n",
      "samikshadalvi/pcos-diagnosis-dataset                             PCOS Diagnosis Dataset                             7KB  2025-02-19 23:03:44            832         29  1.0              \n"
     ]
    }
   ],
   "source": [
    "# list the datasets\n",
    "!kaggle datasets list"
   ]
  },
  {
   "cell_type": "code",
   "execution_count": 222,
   "id": "c1f8a137-7d0f-4a56-a257-b1f5781a8e9e",
   "metadata": {},
   "outputs": [
    {
     "name": "stdout",
     "output_type": "stream",
     "text": [
      "ref                                                             title                                                 size  lastUpdated          downloadCount  voteCount  usabilityRating  \n",
      "--------------------------------------------------------------  --------------------------------------------------  ------  -------------------  -------------  ---------  ---------------  \n",
      "andrewmvd/udemy-courses                                         Udemy Courses                                        200KB  2020-05-17 00:01:42          21982        330  1.0              \n",
      "thedevastator/udemy-courses-revenue-generation-and-course-anal  Udemy Courses                                        429KB  2024-03-10 19:13:04           6692        103  1.0              \n",
      "hossaingh/udemy-courses                                         Udemy Courses                                        613MB  2022-11-21 01:29:36           2738         54  1.0              \n",
      "jilkothari/finance-accounting-courses-udemy-13k-course          Finance & Accounting Courses - Udemy (13K+ course)  1000KB  2020-09-17 12:46:12           8408        180  1.0              \n",
      "jilkothari/business-courses-udemy-10k-courses                   Business Courses - Udemy (10k courses)               702KB  2020-09-15 07:42:30           2097         40  1.0              \n",
      "yusufdelikkaya/udemy-online-education-courses                   Udemy Online Education Courses Dataset               200KB  2024-10-29 11:08:35           1652         43  0.88235295       \n",
      "ankushbisht005/udemy-courses-data-2023                          Udemy Courses Data 2023                                8MB  2023-02-16 20:19:16           1150         28  0.64705884       \n",
      "suddharshan/best-data-science-courses-udemy                     Best Data Science Courses - Udemy                     13KB  2021-12-25 16:48:14            716         34  1.0              \n",
      "refiaozturk/udemy-courses-dataset                               Udemy Courses Dataset: Explore Course Trends         200KB  2024-10-28 11:32:04            703         25  0.9411765        \n",
      "muhammadanasmahmood/udemy-courses-dataset                       Udemy Courses Dataset                                372KB  2022-08-07 01:50:22           1552         52  0.7058824        \n",
      "nesreenalqahtani/udemy-dataset                                  Udemy Dataset                                        600KB  2021-01-28 16:41:01            238          4  1.0              \n",
      "mahmoudahmed6/udemy-top-5k-course-2022                          Udemy Courses - Top 5000 Course 2022                 573KB  2022-11-09 13:17:12            983         52  0.7058824        \n",
      "niteshsahu99/udemy-courses                                      Udemy Courses                                        151KB  2023-06-13 04:56:38             62         23  0.3529412        \n",
      "hosammhmdali/udemy-courses-dataset                              Udemy Courses Dataset                                151KB  2024-12-24 17:48:58             36          6  0.47058824       \n",
      "jilkothari/lifestyle-courses-udemy-39k-course                   LifeStyle Courses - Udemy (39K+ course)                3MB  2020-11-02 05:39:57            434         12  1.0              \n",
      "denisadutca/customer-behaviour                                  Customer_Behaviour                                     3KB  2019-11-03 09:53:06           7791         39  0.7647059        \n",
      "jilkothari/it-software-courses-udemy-22k-courses                IT & Software Courses Udemy - 22k+ courses             2MB  2020-10-12 14:53:59            946         26  1.0              \n",
      "nayanack/udemy-courses                                          Udemy Course Recommender System: Unlocking Persona   200KB  2024-04-19 08:48:08            345         18  0.8125           \n",
      "jilkothari/udemy-courses-development                            Development Category (10k courses) from Udemy        693KB  2020-09-12 09:41:35            410         24  0.9411765        \n",
      "songseungwon/2020-udemy-courses-dataset                         42K+ Udemy Course Enrollment Information Dataset🔥      3MB  2021-07-04 23:39:57           1197         28  0.7647059        \n"
     ]
    }
   ],
   "source": [
    "!kaggle datasets list -s \"udemy\""
   ]
  },
  {
   "cell_type": "code",
   "execution_count": 224,
   "id": "c7fae039-c3f9-48ee-8eca-ad132087073a",
   "metadata": {},
   "outputs": [
    {
     "name": "stdout",
     "output_type": "stream",
     "text": [
      "Dataset URL: https://www.kaggle.com/datasets/andrewmvd/udemy-courses\n",
      "License(s): other\n",
      "Downloading udemy-courses.zip to /Users/fatemehshahvirdi\n",
      "100%|█████████████████████████████████████████| 200k/200k [00:00<00:00, 563kB/s]\n",
      "100%|█████████████████████████████████████████| 200k/200k [00:00<00:00, 562kB/s]\n"
     ]
    }
   ],
   "source": [
    "# Download the dataset\n",
    "!kaggle datasets download -d andrewmvd/udemy-courses --unzip"
   ]
  },
  {
   "cell_type": "markdown",
   "id": "8406afe0-a36f-40b8-82bd-6f52a2acc712",
   "metadata": {},
   "source": [
    "# 2.Import Libraries"
   ]
  },
  {
   "cell_type": "code",
   "execution_count": 226,
   "id": "899c32e8-34b6-4825-a124-6b6a88b2ade1",
   "metadata": {},
   "outputs": [],
   "source": [
    "import os\n",
    "import pandas as pd\n",
    "import seaborn as sns\n",
    "import matplotlib.pyplot as plt"
   ]
  },
  {
   "cell_type": "code",
   "execution_count": 228,
   "id": "ca817048-97cd-4bbf-bc3e-edbb6c484213",
   "metadata": {},
   "outputs": [
    {
     "name": "stdout",
     "output_type": "stream",
     "text": [
      "['.config', 'Music', '.kaggle', '.condarc', '.DS_Store', '.dbvis', '.CFUserTextEncoding', 'Udemy-backup.ipynb', '.xonshrc', 'anaconda_projects', 'Untitled.ipynb', 'Full Disk Access', '.zshrc', '.psql_history', 'Pictures', 'Udemy.ipynb', 'Entertainment', '.zsh_history', '.ipython', 'Desktop', 'Library', '.matplotlib', '.pgadmin', 'Public', '.tcshrc', '.anaconda', 'Movies', 'udemy_courses.csv', '.Trash', '.ipynb_checkpoints', '.jupyter', 'Documents', '.vscode', '.bash_profile', 'Photos', 'Work-Related', 'Downloads', '.continuum', '.zsh_sessions', '.conda']\n"
     ]
    }
   ],
   "source": [
    "# Checking the present files in the directory\n",
    "print(os.listdir())"
   ]
  },
  {
   "cell_type": "markdown",
   "id": "3ae21080-8836-493e-870f-a903493cfa6a",
   "metadata": {},
   "source": [
    "# 3. Load & Explore Data"
   ]
  },
  {
   "cell_type": "code",
   "execution_count": 230,
   "id": "f54573f7-7504-4e9d-a707-067c871e6029",
   "metadata": {},
   "outputs": [
    {
     "data": {
      "text/html": [
       "<div>\n",
       "<style scoped>\n",
       "    .dataframe tbody tr th:only-of-type {\n",
       "        vertical-align: middle;\n",
       "    }\n",
       "\n",
       "    .dataframe tbody tr th {\n",
       "        vertical-align: top;\n",
       "    }\n",
       "\n",
       "    .dataframe thead th {\n",
       "        text-align: right;\n",
       "    }\n",
       "</style>\n",
       "<table border=\"1\" class=\"dataframe\">\n",
       "  <thead>\n",
       "    <tr style=\"text-align: right;\">\n",
       "      <th></th>\n",
       "      <th>course_id</th>\n",
       "      <th>course_title</th>\n",
       "      <th>url</th>\n",
       "      <th>is_paid</th>\n",
       "      <th>price</th>\n",
       "      <th>num_subscribers</th>\n",
       "      <th>num_reviews</th>\n",
       "      <th>num_lectures</th>\n",
       "      <th>level</th>\n",
       "      <th>content_duration</th>\n",
       "      <th>published_timestamp</th>\n",
       "      <th>subject</th>\n",
       "    </tr>\n",
       "  </thead>\n",
       "  <tbody>\n",
       "    <tr>\n",
       "      <th>0</th>\n",
       "      <td>1070968</td>\n",
       "      <td>Ultimate Investment Banking Course</td>\n",
       "      <td>https://www.udemy.com/ultimate-investment-bank...</td>\n",
       "      <td>True</td>\n",
       "      <td>200</td>\n",
       "      <td>2147</td>\n",
       "      <td>23</td>\n",
       "      <td>51</td>\n",
       "      <td>All Levels</td>\n",
       "      <td>1.5</td>\n",
       "      <td>2017-01-18T20:58:58Z</td>\n",
       "      <td>Business Finance</td>\n",
       "    </tr>\n",
       "    <tr>\n",
       "      <th>1</th>\n",
       "      <td>1113822</td>\n",
       "      <td>Complete GST Course &amp; Certification - Grow You...</td>\n",
       "      <td>https://www.udemy.com/goods-and-services-tax/</td>\n",
       "      <td>True</td>\n",
       "      <td>75</td>\n",
       "      <td>2792</td>\n",
       "      <td>923</td>\n",
       "      <td>274</td>\n",
       "      <td>All Levels</td>\n",
       "      <td>39.0</td>\n",
       "      <td>2017-03-09T16:34:20Z</td>\n",
       "      <td>Business Finance</td>\n",
       "    </tr>\n",
       "    <tr>\n",
       "      <th>2</th>\n",
       "      <td>1006314</td>\n",
       "      <td>Financial Modeling for Business Analysts and C...</td>\n",
       "      <td>https://www.udemy.com/financial-modeling-for-b...</td>\n",
       "      <td>True</td>\n",
       "      <td>45</td>\n",
       "      <td>2174</td>\n",
       "      <td>74</td>\n",
       "      <td>51</td>\n",
       "      <td>Intermediate Level</td>\n",
       "      <td>2.5</td>\n",
       "      <td>2016-12-19T19:26:30Z</td>\n",
       "      <td>Business Finance</td>\n",
       "    </tr>\n",
       "    <tr>\n",
       "      <th>3</th>\n",
       "      <td>1210588</td>\n",
       "      <td>Beginner to Pro - Financial Analysis in Excel ...</td>\n",
       "      <td>https://www.udemy.com/complete-excel-finance-c...</td>\n",
       "      <td>True</td>\n",
       "      <td>95</td>\n",
       "      <td>2451</td>\n",
       "      <td>11</td>\n",
       "      <td>36</td>\n",
       "      <td>All Levels</td>\n",
       "      <td>3.0</td>\n",
       "      <td>2017-05-30T20:07:24Z</td>\n",
       "      <td>Business Finance</td>\n",
       "    </tr>\n",
       "    <tr>\n",
       "      <th>4</th>\n",
       "      <td>1011058</td>\n",
       "      <td>How To Maximize Your Profits Trading Options</td>\n",
       "      <td>https://www.udemy.com/how-to-maximize-your-pro...</td>\n",
       "      <td>True</td>\n",
       "      <td>200</td>\n",
       "      <td>1276</td>\n",
       "      <td>45</td>\n",
       "      <td>26</td>\n",
       "      <td>Intermediate Level</td>\n",
       "      <td>2.0</td>\n",
       "      <td>2016-12-13T14:57:18Z</td>\n",
       "      <td>Business Finance</td>\n",
       "    </tr>\n",
       "  </tbody>\n",
       "</table>\n",
       "</div>"
      ],
      "text/plain": [
       "   course_id                                       course_title  \\\n",
       "0    1070968                 Ultimate Investment Banking Course   \n",
       "1    1113822  Complete GST Course & Certification - Grow You...   \n",
       "2    1006314  Financial Modeling for Business Analysts and C...   \n",
       "3    1210588  Beginner to Pro - Financial Analysis in Excel ...   \n",
       "4    1011058       How To Maximize Your Profits Trading Options   \n",
       "\n",
       "                                                 url  is_paid  price  \\\n",
       "0  https://www.udemy.com/ultimate-investment-bank...     True    200   \n",
       "1      https://www.udemy.com/goods-and-services-tax/     True     75   \n",
       "2  https://www.udemy.com/financial-modeling-for-b...     True     45   \n",
       "3  https://www.udemy.com/complete-excel-finance-c...     True     95   \n",
       "4  https://www.udemy.com/how-to-maximize-your-pro...     True    200   \n",
       "\n",
       "   num_subscribers  num_reviews  num_lectures               level  \\\n",
       "0             2147           23            51          All Levels   \n",
       "1             2792          923           274          All Levels   \n",
       "2             2174           74            51  Intermediate Level   \n",
       "3             2451           11            36          All Levels   \n",
       "4             1276           45            26  Intermediate Level   \n",
       "\n",
       "   content_duration   published_timestamp           subject  \n",
       "0               1.5  2017-01-18T20:58:58Z  Business Finance  \n",
       "1              39.0  2017-03-09T16:34:20Z  Business Finance  \n",
       "2               2.5  2016-12-19T19:26:30Z  Business Finance  \n",
       "3               3.0  2017-05-30T20:07:24Z  Business Finance  \n",
       "4               2.0  2016-12-13T14:57:18Z  Business Finance  "
      ]
     },
     "execution_count": 230,
     "metadata": {},
     "output_type": "execute_result"
    }
   ],
   "source": [
    "# Read the cvs file\n",
    "df = pd.read_csv(\"udemy_courses.csv\")\n",
    "df.head()"
   ]
  },
  {
   "cell_type": "code",
   "execution_count": 232,
   "id": "7e356ad6-35c0-4ccc-97e1-6928aa6b0fbb",
   "metadata": {},
   "outputs": [
    {
     "data": {
      "text/plain": [
       "(3678, 12)"
      ]
     },
     "execution_count": 232,
     "metadata": {},
     "output_type": "execute_result"
    }
   ],
   "source": [
    "df.shape"
   ]
  },
  {
   "cell_type": "code",
   "execution_count": 234,
   "id": "34308ebd-2dbe-4cdb-b4c5-d9668f092911",
   "metadata": {},
   "outputs": [
    {
     "name": "stdout",
     "output_type": "stream",
     "text": [
      "<class 'pandas.core.frame.DataFrame'>\n",
      "RangeIndex: 3678 entries, 0 to 3677\n",
      "Data columns (total 12 columns):\n",
      " #   Column               Non-Null Count  Dtype  \n",
      "---  ------               --------------  -----  \n",
      " 0   course_id            3678 non-null   int64  \n",
      " 1   course_title         3678 non-null   object \n",
      " 2   url                  3678 non-null   object \n",
      " 3   is_paid              3678 non-null   bool   \n",
      " 4   price                3678 non-null   int64  \n",
      " 5   num_subscribers      3678 non-null   int64  \n",
      " 6   num_reviews          3678 non-null   int64  \n",
      " 7   num_lectures         3678 non-null   int64  \n",
      " 8   level                3678 non-null   object \n",
      " 9   content_duration     3678 non-null   float64\n",
      " 10  published_timestamp  3678 non-null   object \n",
      " 11  subject              3678 non-null   object \n",
      "dtypes: bool(1), float64(1), int64(5), object(5)\n",
      "memory usage: 319.8+ KB\n"
     ]
    }
   ],
   "source": [
    "df.info()"
   ]
  },
  {
   "cell_type": "markdown",
   "id": "87bad4d2-721e-4fdf-8a42-52f5a09e7338",
   "metadata": {},
   "source": [
    "# 4.Data Cleaning & Processing"
   ]
  },
  {
   "cell_type": "code",
   "execution_count": 236,
   "id": "90ff6e12-5a60-4d77-a89a-2d7292c7cd21",
   "metadata": {},
   "outputs": [],
   "source": [
    "# Drop unnecessary columns--> url\n",
    "df.drop('url', axis=1, inplace= True)"
   ]
  },
  {
   "cell_type": "code",
   "execution_count": 238,
   "id": "a2c1aa8a-e798-4fe8-93d2-b1ca319b99b3",
   "metadata": {},
   "outputs": [
    {
     "data": {
      "text/plain": [
       "Index(['course_id', 'course_title', 'is_paid', 'price', 'num_subscribers',\n",
       "       'num_reviews', 'num_lectures', 'level', 'content_duration',\n",
       "       'published_timestamp', 'subject'],\n",
       "      dtype='object')"
      ]
     },
     "execution_count": 238,
     "metadata": {},
     "output_type": "execute_result"
    }
   ],
   "source": [
    "df.columns"
   ]
  },
  {
   "cell_type": "code",
   "execution_count": 240,
   "id": "43465b07-b25f-482d-b71b-47cd7b4cb9f8",
   "metadata": {},
   "outputs": [
    {
     "data": {
      "text/plain": [
       "course_id                int64\n",
       "course_title            object\n",
       "is_paid                   bool\n",
       "price                    int64\n",
       "num_subscribers          int64\n",
       "num_reviews              int64\n",
       "num_lectures             int64\n",
       "level                   object\n",
       "content_duration       float64\n",
       "published_timestamp     object\n",
       "subject                 object\n",
       "dtype: object"
      ]
     },
     "execution_count": 240,
     "metadata": {},
     "output_type": "execute_result"
    }
   ],
   "source": [
    "df.dtypes"
   ]
  },
  {
   "cell_type": "code",
   "execution_count": 242,
   "id": "81aaa038-c19c-4ab7-92fa-25a1143e410c",
   "metadata": {},
   "outputs": [
    {
     "data": {
      "text/plain": [
       "course_id              0\n",
       "course_title           0\n",
       "is_paid                0\n",
       "price                  0\n",
       "num_subscribers        0\n",
       "num_reviews            0\n",
       "num_lectures           0\n",
       "level                  0\n",
       "content_duration       0\n",
       "published_timestamp    0\n",
       "subject                0\n",
       "dtype: int64"
      ]
     },
     "execution_count": 242,
     "metadata": {},
     "output_type": "execute_result"
    }
   ],
   "source": [
    "df.isnull().sum()"
   ]
  },
  {
   "cell_type": "code",
   "execution_count": 244,
   "id": "20c5d719-5a64-476e-af65-7b403bc07e5f",
   "metadata": {},
   "outputs": [],
   "source": [
    "# published_timestamp is string, needs to be converted into a datetime\n",
    "df['published_timestamp']= pd.to_datetime(df['published_timestamp'])"
   ]
  },
  {
   "cell_type": "code",
   "execution_count": 246,
   "id": "df2515d9-815d-4250-b26f-b3999f53415d",
   "metadata": {},
   "outputs": [
    {
     "data": {
      "text/plain": [
       "6"
      ]
     },
     "execution_count": 246,
     "metadata": {},
     "output_type": "execute_result"
    }
   ],
   "source": [
    "df.duplicated().sum()"
   ]
  },
  {
   "cell_type": "code",
   "execution_count": 248,
   "id": "d7f79fe2-3b28-4b76-bc2e-d0a77d6c1bfe",
   "metadata": {},
   "outputs": [
    {
     "data": {
      "text/html": [
       "<div>\n",
       "<style scoped>\n",
       "    .dataframe tbody tr th:only-of-type {\n",
       "        vertical-align: middle;\n",
       "    }\n",
       "\n",
       "    .dataframe tbody tr th {\n",
       "        vertical-align: top;\n",
       "    }\n",
       "\n",
       "    .dataframe thead th {\n",
       "        text-align: right;\n",
       "    }\n",
       "</style>\n",
       "<table border=\"1\" class=\"dataframe\">\n",
       "  <thead>\n",
       "    <tr style=\"text-align: right;\">\n",
       "      <th></th>\n",
       "      <th>course_id</th>\n",
       "      <th>course_title</th>\n",
       "      <th>is_paid</th>\n",
       "      <th>price</th>\n",
       "      <th>num_subscribers</th>\n",
       "      <th>num_reviews</th>\n",
       "      <th>num_lectures</th>\n",
       "      <th>level</th>\n",
       "      <th>content_duration</th>\n",
       "      <th>published_timestamp</th>\n",
       "      <th>subject</th>\n",
       "    </tr>\n",
       "  </thead>\n",
       "  <tbody>\n",
       "    <tr>\n",
       "      <th>453</th>\n",
       "      <td>837322</td>\n",
       "      <td>Essentials of money value: Get a financial Life !</td>\n",
       "      <td>True</td>\n",
       "      <td>20</td>\n",
       "      <td>0</td>\n",
       "      <td>0</td>\n",
       "      <td>20</td>\n",
       "      <td>All Levels</td>\n",
       "      <td>0.616667</td>\n",
       "      <td>2016-05-16 18:28:30+00:00</td>\n",
       "      <td>Business Finance</td>\n",
       "    </tr>\n",
       "    <tr>\n",
       "      <th>454</th>\n",
       "      <td>1157298</td>\n",
       "      <td>Introduction to Forex Trading Business For Beg...</td>\n",
       "      <td>True</td>\n",
       "      <td>20</td>\n",
       "      <td>0</td>\n",
       "      <td>0</td>\n",
       "      <td>27</td>\n",
       "      <td>Beginner Level</td>\n",
       "      <td>1.500000</td>\n",
       "      <td>2017-04-23 16:19:01+00:00</td>\n",
       "      <td>Business Finance</td>\n",
       "    </tr>\n",
       "    <tr>\n",
       "      <th>463</th>\n",
       "      <td>1084454</td>\n",
       "      <td>CFA Level 2- Quantitative Methods</td>\n",
       "      <td>True</td>\n",
       "      <td>40</td>\n",
       "      <td>0</td>\n",
       "      <td>0</td>\n",
       "      <td>35</td>\n",
       "      <td>All Levels</td>\n",
       "      <td>5.500000</td>\n",
       "      <td>2017-07-02 14:29:35+00:00</td>\n",
       "      <td>Business Finance</td>\n",
       "    </tr>\n",
       "    <tr>\n",
       "      <th>778</th>\n",
       "      <td>1035638</td>\n",
       "      <td>Understanding Financial Statements</td>\n",
       "      <td>True</td>\n",
       "      <td>25</td>\n",
       "      <td>0</td>\n",
       "      <td>0</td>\n",
       "      <td>10</td>\n",
       "      <td>All Levels</td>\n",
       "      <td>1.000000</td>\n",
       "      <td>2016-12-15 14:56:17+00:00</td>\n",
       "      <td>Business Finance</td>\n",
       "    </tr>\n",
       "    <tr>\n",
       "      <th>787</th>\n",
       "      <td>837322</td>\n",
       "      <td>Essentials of money value: Get a financial Life !</td>\n",
       "      <td>True</td>\n",
       "      <td>20</td>\n",
       "      <td>0</td>\n",
       "      <td>0</td>\n",
       "      <td>20</td>\n",
       "      <td>All Levels</td>\n",
       "      <td>0.616667</td>\n",
       "      <td>2016-05-16 18:28:30+00:00</td>\n",
       "      <td>Business Finance</td>\n",
       "    </tr>\n",
       "    <tr>\n",
       "      <th>788</th>\n",
       "      <td>1157298</td>\n",
       "      <td>Introduction to Forex Trading Business For Beg...</td>\n",
       "      <td>True</td>\n",
       "      <td>20</td>\n",
       "      <td>0</td>\n",
       "      <td>0</td>\n",
       "      <td>27</td>\n",
       "      <td>Beginner Level</td>\n",
       "      <td>1.500000</td>\n",
       "      <td>2017-04-23 16:19:01+00:00</td>\n",
       "      <td>Business Finance</td>\n",
       "    </tr>\n",
       "    <tr>\n",
       "      <th>894</th>\n",
       "      <td>1035638</td>\n",
       "      <td>Understanding Financial Statements</td>\n",
       "      <td>True</td>\n",
       "      <td>25</td>\n",
       "      <td>0</td>\n",
       "      <td>0</td>\n",
       "      <td>10</td>\n",
       "      <td>All Levels</td>\n",
       "      <td>1.000000</td>\n",
       "      <td>2016-12-15 14:56:17+00:00</td>\n",
       "      <td>Business Finance</td>\n",
       "    </tr>\n",
       "    <tr>\n",
       "      <th>1100</th>\n",
       "      <td>1084454</td>\n",
       "      <td>CFA Level 2- Quantitative Methods</td>\n",
       "      <td>True</td>\n",
       "      <td>40</td>\n",
       "      <td>0</td>\n",
       "      <td>0</td>\n",
       "      <td>35</td>\n",
       "      <td>All Levels</td>\n",
       "      <td>5.500000</td>\n",
       "      <td>2017-07-02 14:29:35+00:00</td>\n",
       "      <td>Business Finance</td>\n",
       "    </tr>\n",
       "    <tr>\n",
       "      <th>1234</th>\n",
       "      <td>185526</td>\n",
       "      <td>MicroStation - Células</td>\n",
       "      <td>True</td>\n",
       "      <td>20</td>\n",
       "      <td>0</td>\n",
       "      <td>0</td>\n",
       "      <td>9</td>\n",
       "      <td>Beginner Level</td>\n",
       "      <td>0.616667</td>\n",
       "      <td>2014-04-15 21:48:55+00:00</td>\n",
       "      <td>Graphic Design</td>\n",
       "    </tr>\n",
       "    <tr>\n",
       "      <th>1473</th>\n",
       "      <td>185526</td>\n",
       "      <td>MicroStation - Células</td>\n",
       "      <td>True</td>\n",
       "      <td>20</td>\n",
       "      <td>0</td>\n",
       "      <td>0</td>\n",
       "      <td>9</td>\n",
       "      <td>Beginner Level</td>\n",
       "      <td>0.616667</td>\n",
       "      <td>2014-04-15 21:48:55+00:00</td>\n",
       "      <td>Graphic Design</td>\n",
       "    </tr>\n",
       "    <tr>\n",
       "      <th>2478</th>\n",
       "      <td>28295</td>\n",
       "      <td>Learn Web Designing &amp; HTML5/CSS3 Essentials in...</td>\n",
       "      <td>True</td>\n",
       "      <td>75</td>\n",
       "      <td>43285</td>\n",
       "      <td>525</td>\n",
       "      <td>24</td>\n",
       "      <td>All Levels</td>\n",
       "      <td>4.000000</td>\n",
       "      <td>2013-01-03 00:55:31+00:00</td>\n",
       "      <td>Web Development</td>\n",
       "    </tr>\n",
       "    <tr>\n",
       "      <th>2561</th>\n",
       "      <td>28295</td>\n",
       "      <td>Learn Web Designing &amp; HTML5/CSS3 Essentials in...</td>\n",
       "      <td>True</td>\n",
       "      <td>75</td>\n",
       "      <td>43285</td>\n",
       "      <td>525</td>\n",
       "      <td>24</td>\n",
       "      <td>All Levels</td>\n",
       "      <td>4.000000</td>\n",
       "      <td>2013-01-03 00:55:31+00:00</td>\n",
       "      <td>Web Development</td>\n",
       "    </tr>\n",
       "  </tbody>\n",
       "</table>\n",
       "</div>"
      ],
      "text/plain": [
       "      course_id                                       course_title  is_paid  \\\n",
       "453      837322  Essentials of money value: Get a financial Life !     True   \n",
       "454     1157298  Introduction to Forex Trading Business For Beg...     True   \n",
       "463     1084454                  CFA Level 2- Quantitative Methods     True   \n",
       "778     1035638                 Understanding Financial Statements     True   \n",
       "787      837322  Essentials of money value: Get a financial Life !     True   \n",
       "788     1157298  Introduction to Forex Trading Business For Beg...     True   \n",
       "894     1035638                 Understanding Financial Statements     True   \n",
       "1100    1084454                  CFA Level 2- Quantitative Methods     True   \n",
       "1234     185526                             MicroStation - Células     True   \n",
       "1473     185526                             MicroStation - Células     True   \n",
       "2478      28295  Learn Web Designing & HTML5/CSS3 Essentials in...     True   \n",
       "2561      28295  Learn Web Designing & HTML5/CSS3 Essentials in...     True   \n",
       "\n",
       "      price  num_subscribers  num_reviews  num_lectures           level  \\\n",
       "453      20                0            0            20      All Levels   \n",
       "454      20                0            0            27  Beginner Level   \n",
       "463      40                0            0            35      All Levels   \n",
       "778      25                0            0            10      All Levels   \n",
       "787      20                0            0            20      All Levels   \n",
       "788      20                0            0            27  Beginner Level   \n",
       "894      25                0            0            10      All Levels   \n",
       "1100     40                0            0            35      All Levels   \n",
       "1234     20                0            0             9  Beginner Level   \n",
       "1473     20                0            0             9  Beginner Level   \n",
       "2478     75            43285          525            24      All Levels   \n",
       "2561     75            43285          525            24      All Levels   \n",
       "\n",
       "      content_duration       published_timestamp           subject  \n",
       "453           0.616667 2016-05-16 18:28:30+00:00  Business Finance  \n",
       "454           1.500000 2017-04-23 16:19:01+00:00  Business Finance  \n",
       "463           5.500000 2017-07-02 14:29:35+00:00  Business Finance  \n",
       "778           1.000000 2016-12-15 14:56:17+00:00  Business Finance  \n",
       "787           0.616667 2016-05-16 18:28:30+00:00  Business Finance  \n",
       "788           1.500000 2017-04-23 16:19:01+00:00  Business Finance  \n",
       "894           1.000000 2016-12-15 14:56:17+00:00  Business Finance  \n",
       "1100          5.500000 2017-07-02 14:29:35+00:00  Business Finance  \n",
       "1234          0.616667 2014-04-15 21:48:55+00:00    Graphic Design  \n",
       "1473          0.616667 2014-04-15 21:48:55+00:00    Graphic Design  \n",
       "2478          4.000000 2013-01-03 00:55:31+00:00   Web Development  \n",
       "2561          4.000000 2013-01-03 00:55:31+00:00   Web Development  "
      ]
     },
     "execution_count": 248,
     "metadata": {},
     "output_type": "execute_result"
    }
   ],
   "source": [
    "df[df.duplicated(subset=['course_id', 'course_title'], keep=False)]"
   ]
  },
  {
   "cell_type": "code",
   "execution_count": 250,
   "id": "85b78ddf-34f0-4ff5-89d9-325ef5ad2ff8",
   "metadata": {},
   "outputs": [
    {
     "data": {
      "text/html": [
       "<div>\n",
       "<style scoped>\n",
       "    .dataframe tbody tr th:only-of-type {\n",
       "        vertical-align: middle;\n",
       "    }\n",
       "\n",
       "    .dataframe tbody tr th {\n",
       "        vertical-align: top;\n",
       "    }\n",
       "\n",
       "    .dataframe thead th {\n",
       "        text-align: right;\n",
       "    }\n",
       "</style>\n",
       "<table border=\"1\" class=\"dataframe\">\n",
       "  <thead>\n",
       "    <tr style=\"text-align: right;\">\n",
       "      <th></th>\n",
       "      <th>course_id</th>\n",
       "      <th>course_title</th>\n",
       "      <th>is_paid</th>\n",
       "      <th>price</th>\n",
       "      <th>num_subscribers</th>\n",
       "      <th>num_reviews</th>\n",
       "      <th>num_lectures</th>\n",
       "      <th>level</th>\n",
       "      <th>content_duration</th>\n",
       "      <th>published_timestamp</th>\n",
       "      <th>subject</th>\n",
       "    </tr>\n",
       "  </thead>\n",
       "  <tbody>\n",
       "    <tr>\n",
       "      <th>787</th>\n",
       "      <td>837322</td>\n",
       "      <td>Essentials of money value: Get a financial Life !</td>\n",
       "      <td>True</td>\n",
       "      <td>20</td>\n",
       "      <td>0</td>\n",
       "      <td>0</td>\n",
       "      <td>20</td>\n",
       "      <td>All Levels</td>\n",
       "      <td>0.616667</td>\n",
       "      <td>2016-05-16 18:28:30+00:00</td>\n",
       "      <td>Business Finance</td>\n",
       "    </tr>\n",
       "    <tr>\n",
       "      <th>788</th>\n",
       "      <td>1157298</td>\n",
       "      <td>Introduction to Forex Trading Business For Beg...</td>\n",
       "      <td>True</td>\n",
       "      <td>20</td>\n",
       "      <td>0</td>\n",
       "      <td>0</td>\n",
       "      <td>27</td>\n",
       "      <td>Beginner Level</td>\n",
       "      <td>1.500000</td>\n",
       "      <td>2017-04-23 16:19:01+00:00</td>\n",
       "      <td>Business Finance</td>\n",
       "    </tr>\n",
       "    <tr>\n",
       "      <th>894</th>\n",
       "      <td>1035638</td>\n",
       "      <td>Understanding Financial Statements</td>\n",
       "      <td>True</td>\n",
       "      <td>25</td>\n",
       "      <td>0</td>\n",
       "      <td>0</td>\n",
       "      <td>10</td>\n",
       "      <td>All Levels</td>\n",
       "      <td>1.000000</td>\n",
       "      <td>2016-12-15 14:56:17+00:00</td>\n",
       "      <td>Business Finance</td>\n",
       "    </tr>\n",
       "    <tr>\n",
       "      <th>1100</th>\n",
       "      <td>1084454</td>\n",
       "      <td>CFA Level 2- Quantitative Methods</td>\n",
       "      <td>True</td>\n",
       "      <td>40</td>\n",
       "      <td>0</td>\n",
       "      <td>0</td>\n",
       "      <td>35</td>\n",
       "      <td>All Levels</td>\n",
       "      <td>5.500000</td>\n",
       "      <td>2017-07-02 14:29:35+00:00</td>\n",
       "      <td>Business Finance</td>\n",
       "    </tr>\n",
       "    <tr>\n",
       "      <th>1473</th>\n",
       "      <td>185526</td>\n",
       "      <td>MicroStation - Células</td>\n",
       "      <td>True</td>\n",
       "      <td>20</td>\n",
       "      <td>0</td>\n",
       "      <td>0</td>\n",
       "      <td>9</td>\n",
       "      <td>Beginner Level</td>\n",
       "      <td>0.616667</td>\n",
       "      <td>2014-04-15 21:48:55+00:00</td>\n",
       "      <td>Graphic Design</td>\n",
       "    </tr>\n",
       "    <tr>\n",
       "      <th>2561</th>\n",
       "      <td>28295</td>\n",
       "      <td>Learn Web Designing &amp; HTML5/CSS3 Essentials in...</td>\n",
       "      <td>True</td>\n",
       "      <td>75</td>\n",
       "      <td>43285</td>\n",
       "      <td>525</td>\n",
       "      <td>24</td>\n",
       "      <td>All Levels</td>\n",
       "      <td>4.000000</td>\n",
       "      <td>2013-01-03 00:55:31+00:00</td>\n",
       "      <td>Web Development</td>\n",
       "    </tr>\n",
       "  </tbody>\n",
       "</table>\n",
       "</div>"
      ],
      "text/plain": [
       "      course_id                                       course_title  is_paid  \\\n",
       "787      837322  Essentials of money value: Get a financial Life !     True   \n",
       "788     1157298  Introduction to Forex Trading Business For Beg...     True   \n",
       "894     1035638                 Understanding Financial Statements     True   \n",
       "1100    1084454                  CFA Level 2- Quantitative Methods     True   \n",
       "1473     185526                             MicroStation - Células     True   \n",
       "2561      28295  Learn Web Designing & HTML5/CSS3 Essentials in...     True   \n",
       "\n",
       "      price  num_subscribers  num_reviews  num_lectures           level  \\\n",
       "787      20                0            0            20      All Levels   \n",
       "788      20                0            0            27  Beginner Level   \n",
       "894      25                0            0            10      All Levels   \n",
       "1100     40                0            0            35      All Levels   \n",
       "1473     20                0            0             9  Beginner Level   \n",
       "2561     75            43285          525            24      All Levels   \n",
       "\n",
       "      content_duration       published_timestamp           subject  \n",
       "787           0.616667 2016-05-16 18:28:30+00:00  Business Finance  \n",
       "788           1.500000 2017-04-23 16:19:01+00:00  Business Finance  \n",
       "894           1.000000 2016-12-15 14:56:17+00:00  Business Finance  \n",
       "1100          5.500000 2017-07-02 14:29:35+00:00  Business Finance  \n",
       "1473          0.616667 2014-04-15 21:48:55+00:00    Graphic Design  \n",
       "2561          4.000000 2013-01-03 00:55:31+00:00   Web Development  "
      ]
     },
     "execution_count": 250,
     "metadata": {},
     "output_type": "execute_result"
    }
   ],
   "source": [
    "df[df.duplicated(subset=['course_id', 'course_title'], keep='first')]"
   ]
  },
  {
   "cell_type": "code",
   "execution_count": 252,
   "id": "b27e6012-4ed6-4df9-ad4c-a7eab7cd9c5d",
   "metadata": {},
   "outputs": [],
   "source": [
    "df=df.drop_duplicates()"
   ]
  },
  {
   "cell_type": "code",
   "execution_count": 23,
   "id": "26ac4de8-8626-4740-8a78-33364d1b921f",
   "metadata": {},
   "outputs": [
    {
     "name": "stdout",
     "output_type": "stream",
     "text": [
      "['All Levels' 'Intermediate Level' 'Beginner Level' 'Expert Level']\n",
      "['Business Finance' 'Graphic Design' 'Musical Instruments'\n",
      " 'Web Development']\n"
     ]
    }
   ],
   "source": [
    "# Check unique values 'level' and 'subject' (boolean values)\n",
    "\n",
    "print(df['level'].unique())\n",
    "print(df['subject'].unique())"
   ]
  },
  {
   "cell_type": "code",
   "execution_count": 254,
   "id": "726b72e9-0fb9-47aa-a689-2f69a0e12641",
   "metadata": {},
   "outputs": [
    {
     "data": {
      "text/html": [
       "<div>\n",
       "<style scoped>\n",
       "    .dataframe tbody tr th:only-of-type {\n",
       "        vertical-align: middle;\n",
       "    }\n",
       "\n",
       "    .dataframe tbody tr th {\n",
       "        vertical-align: top;\n",
       "    }\n",
       "\n",
       "    .dataframe thead th {\n",
       "        text-align: right;\n",
       "    }\n",
       "</style>\n",
       "<table border=\"1\" class=\"dataframe\">\n",
       "  <thead>\n",
       "    <tr style=\"text-align: right;\">\n",
       "      <th></th>\n",
       "      <th>course_id</th>\n",
       "      <th>price</th>\n",
       "      <th>num_subscribers</th>\n",
       "      <th>num_reviews</th>\n",
       "      <th>num_lectures</th>\n",
       "      <th>content_duration</th>\n",
       "    </tr>\n",
       "  </thead>\n",
       "  <tbody>\n",
       "    <tr>\n",
       "      <th>count</th>\n",
       "      <td>3.672000e+03</td>\n",
       "      <td>3672.000000</td>\n",
       "      <td>3672.000000</td>\n",
       "      <td>3672.000000</td>\n",
       "      <td>3672.000000</td>\n",
       "      <td>3672.000000</td>\n",
       "    </tr>\n",
       "    <tr>\n",
       "      <th>mean</th>\n",
       "      <td>6.758977e+05</td>\n",
       "      <td>66.102941</td>\n",
       "      <td>3190.586874</td>\n",
       "      <td>156.371460</td>\n",
       "      <td>40.140251</td>\n",
       "      <td>4.097603</td>\n",
       "    </tr>\n",
       "    <tr>\n",
       "      <th>std</th>\n",
       "      <td>3.430720e+05</td>\n",
       "      <td>61.035920</td>\n",
       "      <td>9488.105448</td>\n",
       "      <td>936.178649</td>\n",
       "      <td>50.417102</td>\n",
       "      <td>6.057830</td>\n",
       "    </tr>\n",
       "    <tr>\n",
       "      <th>min</th>\n",
       "      <td>8.324000e+03</td>\n",
       "      <td>0.000000</td>\n",
       "      <td>0.000000</td>\n",
       "      <td>0.000000</td>\n",
       "      <td>0.000000</td>\n",
       "      <td>0.000000</td>\n",
       "    </tr>\n",
       "    <tr>\n",
       "      <th>25%</th>\n",
       "      <td>4.077615e+05</td>\n",
       "      <td>20.000000</td>\n",
       "      <td>111.750000</td>\n",
       "      <td>4.000000</td>\n",
       "      <td>15.000000</td>\n",
       "      <td>1.000000</td>\n",
       "    </tr>\n",
       "    <tr>\n",
       "      <th>50%</th>\n",
       "      <td>6.876920e+05</td>\n",
       "      <td>45.000000</td>\n",
       "      <td>912.000000</td>\n",
       "      <td>18.000000</td>\n",
       "      <td>25.000000</td>\n",
       "      <td>2.000000</td>\n",
       "    </tr>\n",
       "    <tr>\n",
       "      <th>75%</th>\n",
       "      <td>9.608140e+05</td>\n",
       "      <td>95.000000</td>\n",
       "      <td>2548.750000</td>\n",
       "      <td>67.000000</td>\n",
       "      <td>46.000000</td>\n",
       "      <td>4.500000</td>\n",
       "    </tr>\n",
       "    <tr>\n",
       "      <th>max</th>\n",
       "      <td>1.282064e+06</td>\n",
       "      <td>200.000000</td>\n",
       "      <td>268923.000000</td>\n",
       "      <td>27445.000000</td>\n",
       "      <td>779.000000</td>\n",
       "      <td>78.500000</td>\n",
       "    </tr>\n",
       "  </tbody>\n",
       "</table>\n",
       "</div>"
      ],
      "text/plain": [
       "          course_id        price  num_subscribers   num_reviews  num_lectures  \\\n",
       "count  3.672000e+03  3672.000000      3672.000000   3672.000000   3672.000000   \n",
       "mean   6.758977e+05    66.102941      3190.586874    156.371460     40.140251   \n",
       "std    3.430720e+05    61.035920      9488.105448    936.178649     50.417102   \n",
       "min    8.324000e+03     0.000000         0.000000      0.000000      0.000000   \n",
       "25%    4.077615e+05    20.000000       111.750000      4.000000     15.000000   \n",
       "50%    6.876920e+05    45.000000       912.000000     18.000000     25.000000   \n",
       "75%    9.608140e+05    95.000000      2548.750000     67.000000     46.000000   \n",
       "max    1.282064e+06   200.000000    268923.000000  27445.000000    779.000000   \n",
       "\n",
       "       content_duration  \n",
       "count       3672.000000  \n",
       "mean           4.097603  \n",
       "std            6.057830  \n",
       "min            0.000000  \n",
       "25%            1.000000  \n",
       "50%            2.000000  \n",
       "75%            4.500000  \n",
       "max           78.500000  "
      ]
     },
     "execution_count": 254,
     "metadata": {},
     "output_type": "execute_result"
    }
   ],
   "source": [
    "df.describe()"
   ]
  },
  {
   "cell_type": "markdown",
   "id": "92f4e41e-0696-4ff5-9972-9656881616ab",
   "metadata": {},
   "source": [
    "#### Now, I want to ensure that my listings and entries represent valid courses. The key columns that can help me verify this are num_lectures and content_duration. If there are listings with unusual values, it may indicate incorrect entries. Additionally, I suspect a high number of outliers in the num_lectures column.\n",
    "#### The statistics of num_lectures suggest that the data is highly skewed, meaning there are extreme values affecting the distribution.\n",
    "#### One course has 779 lectures, which is extremely high. (  This high value might be a legitimate case (e.g., a massive bootcamp course) or a data entry mistake.)\n",
    "#### Some courses have 0 lectures, which may indicate missing or incorrect data.\n",
    "#### There is a significant gap between the mean (40.14) and the median (25)."
   ]
  },
  {
   "cell_type": "code",
   "execution_count": 256,
   "id": "fa348aa3-3caa-4ec0-ab31-d96c94ce938f",
   "metadata": {},
   "outputs": [
    {
     "data": {
      "text/plain": [
       "<function matplotlib.pyplot.show(close=None, block=None)>"
      ]
     },
     "execution_count": 256,
     "metadata": {},
     "output_type": "execute_result"
    },
    {
     "data": {
      "image/png": "[encoded data removed]",
      "text/plain": [
       "<Figure size 640x480 with 1 Axes>"
      ]
     },
     "metadata": {},
     "output_type": "display_data"
    }
   ],
   "source": [
    "# Use a boxplot\n",
    "sns.boxplot(x=df['num_lectures'])\n",
    "plt.show"
   ]
  },
  {
   "cell_type": "markdown",
   "id": "b902d4c3-6706-46e0-86bf-21fac3c43258",
   "metadata": {},
   "source": [
    "#### As the box plot indicates, I need to take a closer look at the data by calculating the upper bound and identifying the outliers for further investigation. In this case, it is more likely that the outliers are only those above the upper bound."
   ]
  },
  {
   "cell_type": "code",
   "execution_count": 259,
   "id": "203c4a54-5f46-43d5-8f4e-9b662717a571",
   "metadata": {},
   "outputs": [],
   "source": [
    "# IQR calculation\n",
    "Q1 = df['num_lectures'].quantile(0.25)\n",
    "Q3 = df['num_lectures'].quantile(0.75)\n",
    "IQR = Q3 - Q1"
   ]
  },
  {
   "cell_type": "code",
   "execution_count": 261,
   "id": "22dab013-09bd-46fb-a474-1484d2c68720",
   "metadata": {},
   "outputs": [
    {
     "name": "stdout",
     "output_type": "stream",
     "text": [
      "Q1: 15.0, Q3: 46.0, IQR: 31.0\n",
      "Outlier Threshold (Upper Bound): 92.5\n"
     ]
    }
   ],
   "source": [
    "# Lower and upper bounds calculation\n",
    "lower_bound = Q1 - 1.5 * IQR\n",
    "upper_bound = Q3 + 1.5 * IQR\n",
    "\n",
    "print(f\"Q1: {Q1}, Q3: {Q3}, IQR: {IQR}\")\n",
    "print(f\"Outlier Threshold (Upper Bound): {upper_bound}\")"
   ]
  },
  {
   "cell_type": "code",
   "execution_count": 263,
   "id": "77c358ee-4b76-45bb-8017-77177a72f1aa",
   "metadata": {},
   "outputs": [
    {
     "name": "stdout",
     "output_type": "stream",
     "text": [
      "                                           course_title  num_lectures\n",
      "1     Complete GST Course & Certification - Grow You...           274\n",
      "38    Beginner to Pro in Excel: Financial Modeling a...           138\n",
      "39          The Complete Investment Banking Course 2017           110\n",
      "40           The Complete Financial Analyst Course 2017           174\n",
      "41    Python for Finance: Investment Fundamentals & ...           103\n",
      "...                                                 ...           ...\n",
      "3647  17 Complete JavaScript   projects explained st...           106\n",
      "3652  Learn Bootstrap 4 The Most Popular HTML5 CSS3 ...           119\n",
      "3654  The Extreme Web Development Course - For Begin...           152\n",
      "3658  The Complete Web Developer Course - Build 20 W...           304\n",
      "3672    jQuery UI in Action: Build 5 jQuery UI Projects           140\n",
      "\n",
      "[291 rows x 2 columns]\n"
     ]
    }
   ],
   "source": [
    "# finding outliers\n",
    "outliers = df[df['num_lectures'] > upper_bound ]\n",
    "print(outliers[['course_title','num_lectures']])"
   ]
  },
  {
   "cell_type": "markdown",
   "id": "e1bbfdb5-1882-445d-8dd2-fb155bb98883",
   "metadata": {},
   "source": [
    "#### I have 291 rows of outliers out of a total of 3,678 entries, which accounts for 7.9% of my dataset. Since this is more than 5%, I want to investigate them further before making any decisions."
   ]
  },
  {
   "cell_type": "code",
   "execution_count": 265,
   "id": "2df4816d-bbd1-485a-8e26-33cdd9425e64",
   "metadata": {},
   "outputs": [
    {
     "data": {
      "text/html": [
       "<div>\n",
       "<style scoped>\n",
       "    .dataframe tbody tr th:only-of-type {\n",
       "        vertical-align: middle;\n",
       "    }\n",
       "\n",
       "    .dataframe tbody tr th {\n",
       "        vertical-align: top;\n",
       "    }\n",
       "\n",
       "    .dataframe thead th {\n",
       "        text-align: right;\n",
       "    }\n",
       "</style>\n",
       "<table border=\"1\" class=\"dataframe\">\n",
       "  <thead>\n",
       "    <tr style=\"text-align: right;\">\n",
       "      <th></th>\n",
       "      <th>course_id</th>\n",
       "      <th>course_title</th>\n",
       "      <th>is_paid</th>\n",
       "      <th>price</th>\n",
       "      <th>num_subscribers</th>\n",
       "      <th>num_reviews</th>\n",
       "      <th>num_lectures</th>\n",
       "      <th>level</th>\n",
       "      <th>content_duration</th>\n",
       "      <th>published_timestamp</th>\n",
       "      <th>subject</th>\n",
       "    </tr>\n",
       "  </thead>\n",
       "  <tbody>\n",
       "    <tr>\n",
       "      <th>1</th>\n",
       "      <td>1113822</td>\n",
       "      <td>Complete GST Course &amp; Certification - Grow You...</td>\n",
       "      <td>True</td>\n",
       "      <td>75</td>\n",
       "      <td>2792</td>\n",
       "      <td>923</td>\n",
       "      <td>274</td>\n",
       "      <td>All Levels</td>\n",
       "      <td>39.0</td>\n",
       "      <td>2017-03-09 16:34:20+00:00</td>\n",
       "      <td>Business Finance</td>\n",
       "    </tr>\n",
       "    <tr>\n",
       "      <th>38</th>\n",
       "      <td>321410</td>\n",
       "      <td>Beginner to Pro in Excel: Financial Modeling a...</td>\n",
       "      <td>True</td>\n",
       "      <td>195</td>\n",
       "      <td>22257</td>\n",
       "      <td>2697</td>\n",
       "      <td>138</td>\n",
       "      <td>All Levels</td>\n",
       "      <td>7.5</td>\n",
       "      <td>2014-11-25 23:00:40+00:00</td>\n",
       "      <td>Business Finance</td>\n",
       "    </tr>\n",
       "    <tr>\n",
       "      <th>39</th>\n",
       "      <td>965832</td>\n",
       "      <td>The Complete Investment Banking Course 2017</td>\n",
       "      <td>True</td>\n",
       "      <td>195</td>\n",
       "      <td>8575</td>\n",
       "      <td>809</td>\n",
       "      <td>110</td>\n",
       "      <td>All Levels</td>\n",
       "      <td>5.5</td>\n",
       "      <td>2016-10-10 16:16:26+00:00</td>\n",
       "      <td>Business Finance</td>\n",
       "    </tr>\n",
       "    <tr>\n",
       "      <th>40</th>\n",
       "      <td>648826</td>\n",
       "      <td>The Complete Financial Analyst Course 2017</td>\n",
       "      <td>True</td>\n",
       "      <td>195</td>\n",
       "      <td>24481</td>\n",
       "      <td>2347</td>\n",
       "      <td>174</td>\n",
       "      <td>All Levels</td>\n",
       "      <td>10.0</td>\n",
       "      <td>2016-01-21 01:38:48+00:00</td>\n",
       "      <td>Business Finance</td>\n",
       "    </tr>\n",
       "    <tr>\n",
       "      <th>41</th>\n",
       "      <td>1035472</td>\n",
       "      <td>Python for Finance: Investment Fundamentals &amp; ...</td>\n",
       "      <td>True</td>\n",
       "      <td>195</td>\n",
       "      <td>3811</td>\n",
       "      <td>278</td>\n",
       "      <td>103</td>\n",
       "      <td>All Levels</td>\n",
       "      <td>6.5</td>\n",
       "      <td>2017-03-30 22:17:09+00:00</td>\n",
       "      <td>Business Finance</td>\n",
       "    </tr>\n",
       "    <tr>\n",
       "      <th>...</th>\n",
       "      <td>...</td>\n",
       "      <td>...</td>\n",
       "      <td>...</td>\n",
       "      <td>...</td>\n",
       "      <td>...</td>\n",
       "      <td>...</td>\n",
       "      <td>...</td>\n",
       "      <td>...</td>\n",
       "      <td>...</td>\n",
       "      <td>...</td>\n",
       "      <td>...</td>\n",
       "    </tr>\n",
       "    <tr>\n",
       "      <th>3647</th>\n",
       "      <td>975916</td>\n",
       "      <td>17 Complete JavaScript   projects explained st...</td>\n",
       "      <td>True</td>\n",
       "      <td>185</td>\n",
       "      <td>327</td>\n",
       "      <td>26</td>\n",
       "      <td>106</td>\n",
       "      <td>Beginner Level</td>\n",
       "      <td>9.5</td>\n",
       "      <td>2016-10-26 14:03:38+00:00</td>\n",
       "      <td>Web Development</td>\n",
       "    </tr>\n",
       "    <tr>\n",
       "      <th>3652</th>\n",
       "      <td>919354</td>\n",
       "      <td>Learn Bootstrap 4 The Most Popular HTML5 CSS3 ...</td>\n",
       "      <td>True</td>\n",
       "      <td>200</td>\n",
       "      <td>279</td>\n",
       "      <td>37</td>\n",
       "      <td>119</td>\n",
       "      <td>All Levels</td>\n",
       "      <td>10.0</td>\n",
       "      <td>2017-04-25 00:57:35+00:00</td>\n",
       "      <td>Web Development</td>\n",
       "    </tr>\n",
       "    <tr>\n",
       "      <th>3654</th>\n",
       "      <td>949134</td>\n",
       "      <td>The Extreme Web Development Course - For Begin...</td>\n",
       "      <td>True</td>\n",
       "      <td>200</td>\n",
       "      <td>1420</td>\n",
       "      <td>62</td>\n",
       "      <td>152</td>\n",
       "      <td>All Levels</td>\n",
       "      <td>5.5</td>\n",
       "      <td>2016-09-04 20:51:08+00:00</td>\n",
       "      <td>Web Development</td>\n",
       "    </tr>\n",
       "    <tr>\n",
       "      <th>3658</th>\n",
       "      <td>459922</td>\n",
       "      <td>The Complete Web Developer Course - Build 20 W...</td>\n",
       "      <td>True</td>\n",
       "      <td>20</td>\n",
       "      <td>2650</td>\n",
       "      <td>61</td>\n",
       "      <td>304</td>\n",
       "      <td>All Levels</td>\n",
       "      <td>15.5</td>\n",
       "      <td>2015-03-26 22:11:15+00:00</td>\n",
       "      <td>Web Development</td>\n",
       "    </tr>\n",
       "    <tr>\n",
       "      <th>3672</th>\n",
       "      <td>865438</td>\n",
       "      <td>jQuery UI in Action: Build 5 jQuery UI Projects</td>\n",
       "      <td>True</td>\n",
       "      <td>150</td>\n",
       "      <td>382</td>\n",
       "      <td>28</td>\n",
       "      <td>140</td>\n",
       "      <td>All Levels</td>\n",
       "      <td>15.5</td>\n",
       "      <td>2016-10-10 22:00:32+00:00</td>\n",
       "      <td>Web Development</td>\n",
       "    </tr>\n",
       "  </tbody>\n",
       "</table>\n",
       "<p>291 rows × 11 columns</p>\n",
       "</div>"
      ],
      "text/plain": [
       "      course_id                                       course_title  is_paid  \\\n",
       "1       1113822  Complete GST Course & Certification - Grow You...     True   \n",
       "38       321410  Beginner to Pro in Excel: Financial Modeling a...     True   \n",
       "39       965832        The Complete Investment Banking Course 2017     True   \n",
       "40       648826         The Complete Financial Analyst Course 2017     True   \n",
       "41      1035472  Python for Finance: Investment Fundamentals & ...     True   \n",
       "...         ...                                                ...      ...   \n",
       "3647     975916  17 Complete JavaScript   projects explained st...     True   \n",
       "3652     919354  Learn Bootstrap 4 The Most Popular HTML5 CSS3 ...     True   \n",
       "3654     949134  The Extreme Web Development Course - For Begin...     True   \n",
       "3658     459922  The Complete Web Developer Course - Build 20 W...     True   \n",
       "3672     865438    jQuery UI in Action: Build 5 jQuery UI Projects     True   \n",
       "\n",
       "      price  num_subscribers  num_reviews  num_lectures           level  \\\n",
       "1        75             2792          923           274      All Levels   \n",
       "38      195            22257         2697           138      All Levels   \n",
       "39      195             8575          809           110      All Levels   \n",
       "40      195            24481         2347           174      All Levels   \n",
       "41      195             3811          278           103      All Levels   \n",
       "...     ...              ...          ...           ...             ...   \n",
       "3647    185              327           26           106  Beginner Level   \n",
       "3652    200              279           37           119      All Levels   \n",
       "3654    200             1420           62           152      All Levels   \n",
       "3658     20             2650           61           304      All Levels   \n",
       "3672    150              382           28           140      All Levels   \n",
       "\n",
       "      content_duration       published_timestamp           subject  \n",
       "1                 39.0 2017-03-09 16:34:20+00:00  Business Finance  \n",
       "38                 7.5 2014-11-25 23:00:40+00:00  Business Finance  \n",
       "39                 5.5 2016-10-10 16:16:26+00:00  Business Finance  \n",
       "40                10.0 2016-01-21 01:38:48+00:00  Business Finance  \n",
       "41                 6.5 2017-03-30 22:17:09+00:00  Business Finance  \n",
       "...                ...                       ...               ...  \n",
       "3647               9.5 2016-10-26 14:03:38+00:00   Web Development  \n",
       "3652              10.0 2017-04-25 00:57:35+00:00   Web Development  \n",
       "3654               5.5 2016-09-04 20:51:08+00:00   Web Development  \n",
       "3658              15.5 2015-03-26 22:11:15+00:00   Web Development  \n",
       "3672              15.5 2016-10-10 22:00:32+00:00   Web Development  \n",
       "\n",
       "[291 rows x 11 columns]"
      ]
     },
     "metadata": {},
     "output_type": "display_data"
    }
   ],
   "source": [
    "display(outliers)\n"
   ]
  },
  {
   "cell_type": "markdown",
   "id": "2979df10-4663-4b33-b569-d63e48a91b8f",
   "metadata": {},
   "source": [
    "#### There should be a logical and sensible relationship between content_duration and num_lectures. For example, if a course has 152 lectures but only 5 hours of content, it seems unusual. I plan to investigate this further, but for now, I want to first examine the highest outliers and compare the difference between the first and second highest outliers."
   ]
  },
  {
   "cell_type": "code",
   "execution_count": 267,
   "id": "4cf58e26-30e2-465e-9ef8-6ea91e0467e3",
   "metadata": {},
   "outputs": [
    {
     "data": {
      "text/html": [
       "<div>\n",
       "<style scoped>\n",
       "    .dataframe tbody tr th:only-of-type {\n",
       "        vertical-align: middle;\n",
       "    }\n",
       "\n",
       "    .dataframe tbody tr th {\n",
       "        vertical-align: top;\n",
       "    }\n",
       "\n",
       "    .dataframe thead th {\n",
       "        text-align: right;\n",
       "    }\n",
       "</style>\n",
       "<table border=\"1\" class=\"dataframe\">\n",
       "  <thead>\n",
       "    <tr style=\"text-align: right;\">\n",
       "      <th></th>\n",
       "      <th>course_id</th>\n",
       "      <th>course_title</th>\n",
       "      <th>is_paid</th>\n",
       "      <th>price</th>\n",
       "      <th>num_subscribers</th>\n",
       "      <th>num_reviews</th>\n",
       "      <th>num_lectures</th>\n",
       "      <th>level</th>\n",
       "      <th>content_duration</th>\n",
       "      <th>published_timestamp</th>\n",
       "      <th>subject</th>\n",
       "    </tr>\n",
       "  </thead>\n",
       "  <tbody>\n",
       "    <tr>\n",
       "      <th>2707</th>\n",
       "      <td>79154</td>\n",
       "      <td>Back to School Web Development and Programming...</td>\n",
       "      <td>True</td>\n",
       "      <td>200</td>\n",
       "      <td>18170</td>\n",
       "      <td>117</td>\n",
       "      <td>779</td>\n",
       "      <td>Beginner Level</td>\n",
       "      <td>44.5</td>\n",
       "      <td>2013-08-19 14:53:00+00:00</td>\n",
       "      <td>Web Development</td>\n",
       "    </tr>\n",
       "    <tr>\n",
       "      <th>160</th>\n",
       "      <td>543242</td>\n",
       "      <td>Learn to Trade The News</td>\n",
       "      <td>True</td>\n",
       "      <td>200</td>\n",
       "      <td>1924</td>\n",
       "      <td>351</td>\n",
       "      <td>544</td>\n",
       "      <td>All Levels</td>\n",
       "      <td>46.5</td>\n",
       "      <td>2015-07-16 22:03:29+00:00</td>\n",
       "      <td>Business Finance</td>\n",
       "    </tr>\n",
       "    <tr>\n",
       "      <th>2748</th>\n",
       "      <td>978728</td>\n",
       "      <td>Thoughtful Web Development Course: HTML, Vue.j...</td>\n",
       "      <td>True</td>\n",
       "      <td>200</td>\n",
       "      <td>842</td>\n",
       "      <td>144</td>\n",
       "      <td>536</td>\n",
       "      <td>All Levels</td>\n",
       "      <td>25.0</td>\n",
       "      <td>2016-10-11 14:18:27+00:00</td>\n",
       "      <td>Web Development</td>\n",
       "    </tr>\n",
       "    <tr>\n",
       "      <th>561</th>\n",
       "      <td>375594</td>\n",
       "      <td>Financial Management - A Complete Study</td>\n",
       "      <td>True</td>\n",
       "      <td>190</td>\n",
       "      <td>1941</td>\n",
       "      <td>128</td>\n",
       "      <td>527</td>\n",
       "      <td>All Levels</td>\n",
       "      <td>71.5</td>\n",
       "      <td>2014-12-22 16:57:30+00:00</td>\n",
       "      <td>Business Finance</td>\n",
       "    </tr>\n",
       "    <tr>\n",
       "      <th>3004</th>\n",
       "      <td>481696</td>\n",
       "      <td>Code &amp; Grow Rich:  Earn More As An Entrepreneu...</td>\n",
       "      <td>True</td>\n",
       "      <td>200</td>\n",
       "      <td>7211</td>\n",
       "      <td>52</td>\n",
       "      <td>491</td>\n",
       "      <td>All Levels</td>\n",
       "      <td>57.0</td>\n",
       "      <td>2016-02-10 01:09:19+00:00</td>\n",
       "      <td>Web Development</td>\n",
       "    </tr>\n",
       "    <tr>\n",
       "      <th>...</th>\n",
       "      <td>...</td>\n",
       "      <td>...</td>\n",
       "      <td>...</td>\n",
       "      <td>...</td>\n",
       "      <td>...</td>\n",
       "      <td>...</td>\n",
       "      <td>...</td>\n",
       "      <td>...</td>\n",
       "      <td>...</td>\n",
       "      <td>...</td>\n",
       "      <td>...</td>\n",
       "    </tr>\n",
       "    <tr>\n",
       "      <th>1261</th>\n",
       "      <td>1219326</td>\n",
       "      <td>Diventa un professionista del Graphic Design</td>\n",
       "      <td>True</td>\n",
       "      <td>200</td>\n",
       "      <td>185</td>\n",
       "      <td>10</td>\n",
       "      <td>94</td>\n",
       "      <td>All Levels</td>\n",
       "      <td>17.5</td>\n",
       "      <td>2017-05-24 17:02:19+00:00</td>\n",
       "      <td>Graphic Design</td>\n",
       "    </tr>\n",
       "    <tr>\n",
       "      <th>2557</th>\n",
       "      <td>860812</td>\n",
       "      <td>JavaScript the Basics - JavaScript for Beginners</td>\n",
       "      <td>True</td>\n",
       "      <td>120</td>\n",
       "      <td>4028</td>\n",
       "      <td>674</td>\n",
       "      <td>93</td>\n",
       "      <td>Beginner Level</td>\n",
       "      <td>9.0</td>\n",
       "      <td>2016-06-09 15:13:54+00:00</td>\n",
       "      <td>Web Development</td>\n",
       "    </tr>\n",
       "    <tr>\n",
       "      <th>2424</th>\n",
       "      <td>988678</td>\n",
       "      <td>Curso de piano 101 - Tocando partituras y acor...</td>\n",
       "      <td>True</td>\n",
       "      <td>170</td>\n",
       "      <td>245</td>\n",
       "      <td>26</td>\n",
       "      <td>93</td>\n",
       "      <td>All Levels</td>\n",
       "      <td>4.5</td>\n",
       "      <td>2016-10-28 16:32:47+00:00</td>\n",
       "      <td>Musical Instruments</td>\n",
       "    </tr>\n",
       "    <tr>\n",
       "      <th>2810</th>\n",
       "      <td>621022</td>\n",
       "      <td>Projects in MongoDB - Learn MongoDB Building P...</td>\n",
       "      <td>True</td>\n",
       "      <td>50</td>\n",
       "      <td>4628</td>\n",
       "      <td>247</td>\n",
       "      <td>93</td>\n",
       "      <td>All Levels</td>\n",
       "      <td>12.0</td>\n",
       "      <td>2015-09-28 20:22:39+00:00</td>\n",
       "      <td>Web Development</td>\n",
       "    </tr>\n",
       "    <tr>\n",
       "      <th>2811</th>\n",
       "      <td>30318</td>\n",
       "      <td>Learning JavaScript Programming Tutorial. A De...</td>\n",
       "      <td>True</td>\n",
       "      <td>50</td>\n",
       "      <td>17113</td>\n",
       "      <td>380</td>\n",
       "      <td>93</td>\n",
       "      <td>All Levels</td>\n",
       "      <td>9.5</td>\n",
       "      <td>2012-11-26 13:51:56+00:00</td>\n",
       "      <td>Web Development</td>\n",
       "    </tr>\n",
       "  </tbody>\n",
       "</table>\n",
       "<p>291 rows × 11 columns</p>\n",
       "</div>"
      ],
      "text/plain": [
       "      course_id                                       course_title  is_paid  \\\n",
       "2707      79154  Back to School Web Development and Programming...     True   \n",
       "160      543242                            Learn to Trade The News     True   \n",
       "2748     978728  Thoughtful Web Development Course: HTML, Vue.j...     True   \n",
       "561      375594            Financial Management - A Complete Study     True   \n",
       "3004     481696  Code & Grow Rich:  Earn More As An Entrepreneu...     True   \n",
       "...         ...                                                ...      ...   \n",
       "1261    1219326       Diventa un professionista del Graphic Design     True   \n",
       "2557     860812   JavaScript the Basics - JavaScript for Beginners     True   \n",
       "2424     988678  Curso de piano 101 - Tocando partituras y acor...     True   \n",
       "2810     621022  Projects in MongoDB - Learn MongoDB Building P...     True   \n",
       "2811      30318  Learning JavaScript Programming Tutorial. A De...     True   \n",
       "\n",
       "      price  num_subscribers  num_reviews  num_lectures           level  \\\n",
       "2707    200            18170          117           779  Beginner Level   \n",
       "160     200             1924          351           544      All Levels   \n",
       "2748    200              842          144           536      All Levels   \n",
       "561     190             1941          128           527      All Levels   \n",
       "3004    200             7211           52           491      All Levels   \n",
       "...     ...              ...          ...           ...             ...   \n",
       "1261    200              185           10            94      All Levels   \n",
       "2557    120             4028          674            93  Beginner Level   \n",
       "2424    170              245           26            93      All Levels   \n",
       "2810     50             4628          247            93      All Levels   \n",
       "2811     50            17113          380            93      All Levels   \n",
       "\n",
       "      content_duration       published_timestamp              subject  \n",
       "2707              44.5 2013-08-19 14:53:00+00:00      Web Development  \n",
       "160               46.5 2015-07-16 22:03:29+00:00     Business Finance  \n",
       "2748              25.0 2016-10-11 14:18:27+00:00      Web Development  \n",
       "561               71.5 2014-12-22 16:57:30+00:00     Business Finance  \n",
       "3004              57.0 2016-02-10 01:09:19+00:00      Web Development  \n",
       "...                ...                       ...                  ...  \n",
       "1261              17.5 2017-05-24 17:02:19+00:00       Graphic Design  \n",
       "2557               9.0 2016-06-09 15:13:54+00:00      Web Development  \n",
       "2424               4.5 2016-10-28 16:32:47+00:00  Musical Instruments  \n",
       "2810              12.0 2015-09-28 20:22:39+00:00      Web Development  \n",
       "2811               9.5 2012-11-26 13:51:56+00:00      Web Development  \n",
       "\n",
       "[291 rows x 11 columns]"
      ]
     },
     "metadata": {},
     "output_type": "display_data"
    }
   ],
   "source": [
    "outliers_sorted = df[df['num_lectures']> upper_bound].sort_values(by = 'num_lectures', ascending = False)\n",
    "display(outliers_sorted)"
   ]
  },
  {
   "cell_type": "markdown",
   "id": "97293048-ae95-4ae3-ae8f-4d09ac9bb779",
   "metadata": {},
   "source": [
    "#### Since the first outlier (779 lectures) is significantly higher than the second one (544 lectures), and afterward, the numbers show a reasonable decline, it is likely that the first outlier is distorting the dataset. Therefore, I have decided to remove it. I also want to remove the entry with 0 number of lectures and 0 content duration."
   ]
  },
  {
   "cell_type": "code",
   "execution_count": 269,
   "id": "9ddf5e6a-f52b-4778-80ee-2bc17f90acb5",
   "metadata": {},
   "outputs": [],
   "source": [
    "df = df[df['num_lectures'] !=779]"
   ]
  },
  {
   "cell_type": "code",
   "execution_count": 271,
   "id": "3315c51f-6434-412b-884f-ef3fc5e2f055",
   "metadata": {},
   "outputs": [
    {
     "data": {
      "text/html": [
       "<div>\n",
       "<style scoped>\n",
       "    .dataframe tbody tr th:only-of-type {\n",
       "        vertical-align: middle;\n",
       "    }\n",
       "\n",
       "    .dataframe tbody tr th {\n",
       "        vertical-align: top;\n",
       "    }\n",
       "\n",
       "    .dataframe thead th {\n",
       "        text-align: right;\n",
       "    }\n",
       "</style>\n",
       "<table border=\"1\" class=\"dataframe\">\n",
       "  <thead>\n",
       "    <tr style=\"text-align: right;\">\n",
       "      <th></th>\n",
       "      <th>course_id</th>\n",
       "      <th>course_title</th>\n",
       "      <th>is_paid</th>\n",
       "      <th>price</th>\n",
       "      <th>num_subscribers</th>\n",
       "      <th>num_reviews</th>\n",
       "      <th>num_lectures</th>\n",
       "      <th>level</th>\n",
       "      <th>content_duration</th>\n",
       "      <th>published_timestamp</th>\n",
       "      <th>subject</th>\n",
       "    </tr>\n",
       "  </thead>\n",
       "  <tbody>\n",
       "    <tr>\n",
       "      <th>892</th>\n",
       "      <td>627332</td>\n",
       "      <td>Mutual Funds for Investors in Retirement Accounts</td>\n",
       "      <td>True</td>\n",
       "      <td>20</td>\n",
       "      <td>0</td>\n",
       "      <td>0</td>\n",
       "      <td>0</td>\n",
       "      <td>All Levels</td>\n",
       "      <td>0.0</td>\n",
       "      <td>2015-12-17 05:38:38+00:00</td>\n",
       "      <td>Business Finance</td>\n",
       "    </tr>\n",
       "  </tbody>\n",
       "</table>\n",
       "</div>"
      ],
      "text/plain": [
       "     course_id                                       course_title  is_paid  \\\n",
       "892     627332  Mutual Funds for Investors in Retirement Accounts     True   \n",
       "\n",
       "     price  num_subscribers  num_reviews  num_lectures       level  \\\n",
       "892     20                0            0             0  All Levels   \n",
       "\n",
       "     content_duration       published_timestamp           subject  \n",
       "892               0.0 2015-12-17 05:38:38+00:00  Business Finance  "
      ]
     },
     "metadata": {},
     "output_type": "display_data"
    }
   ],
   "source": [
    "zero_lectures = df[df['num_lectures']== 0]\n",
    "display(zero_lectures)"
   ]
  },
  {
   "cell_type": "code",
   "execution_count": 273,
   "id": "2705bbea-5389-4735-bd16-50eadbb760da",
   "metadata": {},
   "outputs": [],
   "source": [
    "df = df[df['num_lectures'] !=0]"
   ]
  },
  {
   "cell_type": "code",
   "execution_count": 275,
   "id": "cb488e6f-1d61-4664-a2b9-e06080b9f1a8",
   "metadata": {},
   "outputs": [
    {
     "data": {
      "text/html": [
       "<div>\n",
       "<style scoped>\n",
       "    .dataframe tbody tr th:only-of-type {\n",
       "        vertical-align: middle;\n",
       "    }\n",
       "\n",
       "    .dataframe tbody tr th {\n",
       "        vertical-align: top;\n",
       "    }\n",
       "\n",
       "    .dataframe thead th {\n",
       "        text-align: right;\n",
       "    }\n",
       "</style>\n",
       "<table border=\"1\" class=\"dataframe\">\n",
       "  <thead>\n",
       "    <tr style=\"text-align: right;\">\n",
       "      <th></th>\n",
       "      <th>course_id</th>\n",
       "      <th>course_title</th>\n",
       "      <th>is_paid</th>\n",
       "      <th>price</th>\n",
       "      <th>num_subscribers</th>\n",
       "      <th>num_reviews</th>\n",
       "      <th>num_lectures</th>\n",
       "      <th>level</th>\n",
       "      <th>content_duration</th>\n",
       "      <th>published_timestamp</th>\n",
       "      <th>subject</th>\n",
       "    </tr>\n",
       "  </thead>\n",
       "  <tbody>\n",
       "  </tbody>\n",
       "</table>\n",
       "</div>"
      ],
      "text/plain": [
       "Empty DataFrame\n",
       "Columns: [course_id, course_title, is_paid, price, num_subscribers, num_reviews, num_lectures, level, content_duration, published_timestamp, subject]\n",
       "Index: []"
      ]
     },
     "metadata": {},
     "output_type": "display_data"
    }
   ],
   "source": [
    "zero_content_duration = df[df['content_duration']== 0]\n",
    "display(zero_content_duration)"
   ]
  },
  {
   "cell_type": "code",
   "execution_count": 277,
   "id": "d64e9ccb-40a9-4a8a-95cb-357895195579",
   "metadata": {},
   "outputs": [
    {
     "data": {
      "text/html": [
       "<div>\n",
       "<style scoped>\n",
       "    .dataframe tbody tr th:only-of-type {\n",
       "        vertical-align: middle;\n",
       "    }\n",
       "\n",
       "    .dataframe tbody tr th {\n",
       "        vertical-align: top;\n",
       "    }\n",
       "\n",
       "    .dataframe thead th {\n",
       "        text-align: right;\n",
       "    }\n",
       "</style>\n",
       "<table border=\"1\" class=\"dataframe\">\n",
       "  <thead>\n",
       "    <tr style=\"text-align: right;\">\n",
       "      <th></th>\n",
       "      <th>course_id</th>\n",
       "      <th>price</th>\n",
       "      <th>num_subscribers</th>\n",
       "      <th>num_reviews</th>\n",
       "      <th>num_lectures</th>\n",
       "      <th>content_duration</th>\n",
       "    </tr>\n",
       "  </thead>\n",
       "  <tbody>\n",
       "    <tr>\n",
       "      <th>count</th>\n",
       "      <td>3.670000e+03</td>\n",
       "      <td>3670.000000</td>\n",
       "      <td>3670.000000</td>\n",
       "      <td>3670.000000</td>\n",
       "      <td>3670.000000</td>\n",
       "      <td>3670.000000</td>\n",
       "    </tr>\n",
       "    <tr>\n",
       "      <th>mean</th>\n",
       "      <td>6.760735e+05</td>\n",
       "      <td>66.079019</td>\n",
       "      <td>3187.374659</td>\n",
       "      <td>156.424796</td>\n",
       "      <td>39.949864</td>\n",
       "      <td>4.087711</td>\n",
       "    </tr>\n",
       "    <tr>\n",
       "      <th>std</th>\n",
       "      <td>3.430230e+05</td>\n",
       "      <td>61.007770</td>\n",
       "      <td>9487.321887</td>\n",
       "      <td>936.429987</td>\n",
       "      <td>48.928555</td>\n",
       "      <td>6.022269</td>\n",
       "    </tr>\n",
       "    <tr>\n",
       "      <th>min</th>\n",
       "      <td>8.324000e+03</td>\n",
       "      <td>0.000000</td>\n",
       "      <td>0.000000</td>\n",
       "      <td>0.000000</td>\n",
       "      <td>4.000000</td>\n",
       "      <td>0.133333</td>\n",
       "    </tr>\n",
       "    <tr>\n",
       "      <th>25%</th>\n",
       "      <td>4.078430e+05</td>\n",
       "      <td>20.000000</td>\n",
       "      <td>112.000000</td>\n",
       "      <td>4.000000</td>\n",
       "      <td>15.000000</td>\n",
       "      <td>1.000000</td>\n",
       "    </tr>\n",
       "    <tr>\n",
       "      <th>50%</th>\n",
       "      <td>6.879170e+05</td>\n",
       "      <td>45.000000</td>\n",
       "      <td>912.000000</td>\n",
       "      <td>18.000000</td>\n",
       "      <td>25.000000</td>\n",
       "      <td>2.000000</td>\n",
       "    </tr>\n",
       "    <tr>\n",
       "      <th>75%</th>\n",
       "      <td>9.608700e+05</td>\n",
       "      <td>95.000000</td>\n",
       "      <td>2546.000000</td>\n",
       "      <td>67.000000</td>\n",
       "      <td>46.000000</td>\n",
       "      <td>4.500000</td>\n",
       "    </tr>\n",
       "    <tr>\n",
       "      <th>max</th>\n",
       "      <td>1.282064e+06</td>\n",
       "      <td>200.000000</td>\n",
       "      <td>268923.000000</td>\n",
       "      <td>27445.000000</td>\n",
       "      <td>544.000000</td>\n",
       "      <td>78.500000</td>\n",
       "    </tr>\n",
       "  </tbody>\n",
       "</table>\n",
       "</div>"
      ],
      "text/plain": [
       "          course_id        price  num_subscribers   num_reviews  num_lectures  \\\n",
       "count  3.670000e+03  3670.000000      3670.000000   3670.000000   3670.000000   \n",
       "mean   6.760735e+05    66.079019      3187.374659    156.424796     39.949864   \n",
       "std    3.430230e+05    61.007770      9487.321887    936.429987     48.928555   \n",
       "min    8.324000e+03     0.000000         0.000000      0.000000      4.000000   \n",
       "25%    4.078430e+05    20.000000       112.000000      4.000000     15.000000   \n",
       "50%    6.879170e+05    45.000000       912.000000     18.000000     25.000000   \n",
       "75%    9.608700e+05    95.000000      2546.000000     67.000000     46.000000   \n",
       "max    1.282064e+06   200.000000    268923.000000  27445.000000    544.000000   \n",
       "\n",
       "       content_duration  \n",
       "count       3670.000000  \n",
       "mean           4.087711  \n",
       "std            6.022269  \n",
       "min            0.133333  \n",
       "25%            1.000000  \n",
       "50%            2.000000  \n",
       "75%            4.500000  \n",
       "max           78.500000  "
      ]
     },
     "execution_count": 277,
     "metadata": {},
     "output_type": "execute_result"
    }
   ],
   "source": [
    "# Check the stats again\n",
    "df.describe()"
   ]
  },
  {
   "cell_type": "markdown",
   "id": "99182b11-a22a-4e04-bedd-0112924f871e",
   "metadata": {},
   "source": [
    "#### I do the calculations again, but since the number are not changed drastically it is unlikely for us to have a big difference there."
   ]
  },
  {
   "cell_type": "code",
   "execution_count": 279,
   "id": "0919db60-92e3-46b3-9dbf-295d342501bc",
   "metadata": {},
   "outputs": [],
   "source": [
    "# IQR calculation\n",
    "Q1 = df['num_lectures'].quantile(0.25)\n",
    "Q3 = df['num_lectures'].quantile(0.75)\n",
    "IQR = Q3 - Q1"
   ]
  },
  {
   "cell_type": "code",
   "execution_count": 281,
   "id": "53191df7-8f85-4961-95f0-16d2d4360812",
   "metadata": {},
   "outputs": [
    {
     "name": "stdout",
     "output_type": "stream",
     "text": [
      "Q1: 15.0, Q3: 46.0, IQR: 31.0\n",
      "Outlier Threshold (Upper Bound): 92.5\n"
     ]
    }
   ],
   "source": [
    "lower_bound = Q1 - 1.5 * IQR\n",
    "upper_bound = Q3 + 1.5 * IQR\n",
    "\n",
    "print(f\"Q1: {Q1}, Q3: {Q3}, IQR: {IQR}\")\n",
    "print(f\"Outlier Threshold (Upper Bound): {upper_bound}\")"
   ]
  },
  {
   "cell_type": "code",
   "execution_count": 283,
   "id": "144ee6ae-d539-4b06-9a50-cf67d77690ce",
   "metadata": {},
   "outputs": [
    {
     "name": "stdout",
     "output_type": "stream",
     "text": [
      "                                           course_title  num_lectures\n",
      "1     Complete GST Course & Certification - Grow You...           274\n",
      "38    Beginner to Pro in Excel: Financial Modeling a...           138\n",
      "39          The Complete Investment Banking Course 2017           110\n",
      "40           The Complete Financial Analyst Course 2017           174\n",
      "41    Python for Finance: Investment Fundamentals & ...           103\n",
      "...                                                 ...           ...\n",
      "3647  17 Complete JavaScript   projects explained st...           106\n",
      "3652  Learn Bootstrap 4 The Most Popular HTML5 CSS3 ...           119\n",
      "3654  The Extreme Web Development Course - For Begin...           152\n",
      "3658  The Complete Web Developer Course - Build 20 W...           304\n",
      "3672    jQuery UI in Action: Build 5 jQuery UI Projects           140\n",
      "\n",
      "[290 rows x 2 columns]\n"
     ]
    }
   ],
   "source": [
    "outliers = df[df['num_lectures'] > upper_bound ]\n",
    "print(outliers[['course_title','num_lectures']])"
   ]
  },
  {
   "cell_type": "markdown",
   "id": "b2a4f232-3175-4675-a895-d86c8b640d93",
   "metadata": {},
   "source": [
    "#### Now I want to take a look at the relationship between number ot lectures and course duration."
   ]
  },
  {
   "cell_type": "code",
   "execution_count": 285,
   "id": "8fd3f18a-837b-4b4f-a47a-67975b8ff64f",
   "metadata": {},
   "outputs": [
    {
     "data": {
      "text/plain": [
       "<function matplotlib.pyplot.show(close=None, block=None)>"
      ]
     },
     "execution_count": 285,
     "metadata": {},
     "output_type": "execute_result"
    },
    {
     "data": {
      "image/png": "[encoded data removed]",
      "text/plain": [
       "<Figure size 800x500 with 1 Axes>"
      ]
     },
     "metadata": {},
     "output_type": "display_data"
    }
   ],
   "source": [
    "# Create a scatter plot to see the relationship between number of lectures and course duration\n",
    "\n",
    "plt.figure(figsize=(8,5))\n",
    "sns.scatterplot(x=df['num_lectures'], y=df['content_duration'])\n",
    "plt.xlabel('number of lectures')\n",
    "plt.ylabel('content duration(hours)')\n",
    "plt.title('relationship between number of lectures and content duration')\n",
    "plt.show"
   ]
  },
  {
   "cell_type": "markdown",
   "id": "0c382622-2d48-41c7-b51f-4c32ac93c0e8",
   "metadata": {},
   "source": [
    "#### Generally there is a positive trend and more lectures tend to have longer durations, but the relation ship is not perdectly linear, dense cluster is between 0-100 lectures and under 10 hours.\n",
    "#### My focus is still on outliers, some courses are more than 300 lectures but still have less than 10 hours time, it can be an incorrect label or very short lectures and I wand to investigate them."
   ]
  },
  {
   "cell_type": "code",
   "execution_count": 287,
   "id": "5a7b686a-b3ab-43b5-8a36-b4027be458ce",
   "metadata": {},
   "outputs": [
    {
     "name": "stdout",
     "output_type": "stream",
     "text": [
      "                  num_lectures  content_duration\n",
      "num_lectures          1.000000          0.803571\n",
      "content_duration      0.803571          1.000000\n"
     ]
    }
   ],
   "source": [
    "# correlation coefficient\n",
    "correlation = df[['num_lectures', 'content_duration']].corr()\n",
    "print(correlation)"
   ]
  },
  {
   "cell_type": "markdown",
   "id": "430617db-1ce8-40ad-9cc3-29ce49b8f188",
   "metadata": {},
   "source": [
    "#### The correlation is strong.\n",
    "#### now I want to investigate the relationship in order to decide which courses are more likely to be false entries so I can decide wether to remove them or not."
   ]
  },
  {
   "cell_type": "code",
   "execution_count": 289,
   "id": "64417b32-1be8-41f8-950d-f35cc4d6df62",
   "metadata": {},
   "outputs": [],
   "source": [
    "# Calculate time spent per lecture\n",
    "df['duration_per_lecture']= df['content_duration'] / df['num_lectures']"
   ]
  },
  {
   "cell_type": "code",
   "execution_count": 291,
   "id": "3289f3a6-c1a3-4f80-80f9-3261d2db753b",
   "metadata": {},
   "outputs": [
    {
     "data": {
      "text/html": [
       "<div>\n",
       "<style scoped>\n",
       "    .dataframe tbody tr th:only-of-type {\n",
       "        vertical-align: middle;\n",
       "    }\n",
       "\n",
       "    .dataframe tbody tr th {\n",
       "        vertical-align: top;\n",
       "    }\n",
       "\n",
       "    .dataframe thead th {\n",
       "        text-align: right;\n",
       "    }\n",
       "</style>\n",
       "<table border=\"1\" class=\"dataframe\">\n",
       "  <thead>\n",
       "    <tr style=\"text-align: right;\">\n",
       "      <th></th>\n",
       "      <th>course_id</th>\n",
       "      <th>price</th>\n",
       "      <th>num_subscribers</th>\n",
       "      <th>num_reviews</th>\n",
       "      <th>num_lectures</th>\n",
       "      <th>content_duration</th>\n",
       "      <th>duration_per_lecture</th>\n",
       "    </tr>\n",
       "  </thead>\n",
       "  <tbody>\n",
       "    <tr>\n",
       "      <th>count</th>\n",
       "      <td>3.670000e+03</td>\n",
       "      <td>3670.000000</td>\n",
       "      <td>3670.000000</td>\n",
       "      <td>3670.000000</td>\n",
       "      <td>3670.000000</td>\n",
       "      <td>3670.000000</td>\n",
       "      <td>3670.000000</td>\n",
       "    </tr>\n",
       "    <tr>\n",
       "      <th>mean</th>\n",
       "      <td>6.760735e+05</td>\n",
       "      <td>66.079019</td>\n",
       "      <td>3187.374659</td>\n",
       "      <td>156.424796</td>\n",
       "      <td>39.949864</td>\n",
       "      <td>4.087711</td>\n",
       "      <td>0.107437</td>\n",
       "    </tr>\n",
       "    <tr>\n",
       "      <th>std</th>\n",
       "      <td>3.430230e+05</td>\n",
       "      <td>61.007770</td>\n",
       "      <td>9487.321887</td>\n",
       "      <td>936.429987</td>\n",
       "      <td>48.928555</td>\n",
       "      <td>6.022269</td>\n",
       "      <td>0.075178</td>\n",
       "    </tr>\n",
       "    <tr>\n",
       "      <th>min</th>\n",
       "      <td>8.324000e+03</td>\n",
       "      <td>0.000000</td>\n",
       "      <td>0.000000</td>\n",
       "      <td>0.000000</td>\n",
       "      <td>4.000000</td>\n",
       "      <td>0.133333</td>\n",
       "      <td>0.005272</td>\n",
       "    </tr>\n",
       "    <tr>\n",
       "      <th>25%</th>\n",
       "      <td>4.078430e+05</td>\n",
       "      <td>20.000000</td>\n",
       "      <td>112.000000</td>\n",
       "      <td>4.000000</td>\n",
       "      <td>15.000000</td>\n",
       "      <td>1.000000</td>\n",
       "      <td>0.066667</td>\n",
       "    </tr>\n",
       "    <tr>\n",
       "      <th>50%</th>\n",
       "      <td>6.879170e+05</td>\n",
       "      <td>45.000000</td>\n",
       "      <td>912.000000</td>\n",
       "      <td>18.000000</td>\n",
       "      <td>25.000000</td>\n",
       "      <td>2.000000</td>\n",
       "      <td>0.093358</td>\n",
       "    </tr>\n",
       "    <tr>\n",
       "      <th>75%</th>\n",
       "      <td>9.608700e+05</td>\n",
       "      <td>95.000000</td>\n",
       "      <td>2546.000000</td>\n",
       "      <td>67.000000</td>\n",
       "      <td>46.000000</td>\n",
       "      <td>4.500000</td>\n",
       "      <td>0.130435</td>\n",
       "    </tr>\n",
       "    <tr>\n",
       "      <th>max</th>\n",
       "      <td>1.282064e+06</td>\n",
       "      <td>200.000000</td>\n",
       "      <td>268923.000000</td>\n",
       "      <td>27445.000000</td>\n",
       "      <td>544.000000</td>\n",
       "      <td>78.500000</td>\n",
       "      <td>2.121212</td>\n",
       "    </tr>\n",
       "  </tbody>\n",
       "</table>\n",
       "</div>"
      ],
      "text/plain": [
       "          course_id        price  num_subscribers   num_reviews  num_lectures  \\\n",
       "count  3.670000e+03  3670.000000      3670.000000   3670.000000   3670.000000   \n",
       "mean   6.760735e+05    66.079019      3187.374659    156.424796     39.949864   \n",
       "std    3.430230e+05    61.007770      9487.321887    936.429987     48.928555   \n",
       "min    8.324000e+03     0.000000         0.000000      0.000000      4.000000   \n",
       "25%    4.078430e+05    20.000000       112.000000      4.000000     15.000000   \n",
       "50%    6.879170e+05    45.000000       912.000000     18.000000     25.000000   \n",
       "75%    9.608700e+05    95.000000      2546.000000     67.000000     46.000000   \n",
       "max    1.282064e+06   200.000000    268923.000000  27445.000000    544.000000   \n",
       "\n",
       "       content_duration  duration_per_lecture  \n",
       "count       3670.000000           3670.000000  \n",
       "mean           4.087711              0.107437  \n",
       "std            6.022269              0.075178  \n",
       "min            0.133333              0.005272  \n",
       "25%            1.000000              0.066667  \n",
       "50%            2.000000              0.093358  \n",
       "75%            4.500000              0.130435  \n",
       "max           78.500000              2.121212  "
      ]
     },
     "execution_count": 291,
     "metadata": {},
     "output_type": "execute_result"
    }
   ],
   "source": [
    "df.describe()"
   ]
  },
  {
   "cell_type": "markdown",
   "id": "0f13b713-ef5d-4745-842c-bbd629729d24",
   "metadata": {},
   "source": [
    "#### If a course has more than 100 lectures but a very short total content duration, it might be an incorrect entry. Therefore, I want to identify courses where num_lectures falls within the outlier range and duration_per_lecture is less than 5 minutes (0.1 hours)."
   ]
  },
  {
   "cell_type": "code",
   "execution_count": 293,
   "id": "9540cf85-ceb1-4377-ba6f-da40e922522c",
   "metadata": {},
   "outputs": [
    {
     "data": {
      "text/html": [
       "<div>\n",
       "<style scoped>\n",
       "    .dataframe tbody tr th:only-of-type {\n",
       "        vertical-align: middle;\n",
       "    }\n",
       "\n",
       "    .dataframe tbody tr th {\n",
       "        vertical-align: top;\n",
       "    }\n",
       "\n",
       "    .dataframe thead th {\n",
       "        text-align: right;\n",
       "    }\n",
       "</style>\n",
       "<table border=\"1\" class=\"dataframe\">\n",
       "  <thead>\n",
       "    <tr style=\"text-align: right;\">\n",
       "      <th></th>\n",
       "      <th>course_title</th>\n",
       "      <th>num_lectures</th>\n",
       "      <th>content_duration</th>\n",
       "      <th>duration_per_lecture</th>\n",
       "    </tr>\n",
       "  </thead>\n",
       "  <tbody>\n",
       "    <tr>\n",
       "      <th>38</th>\n",
       "      <td>Beginner to Pro in Excel: Financial Modeling a...</td>\n",
       "      <td>138</td>\n",
       "      <td>7.5</td>\n",
       "      <td>0.054348</td>\n",
       "    </tr>\n",
       "    <tr>\n",
       "      <th>39</th>\n",
       "      <td>The Complete Investment Banking Course 2017</td>\n",
       "      <td>110</td>\n",
       "      <td>5.5</td>\n",
       "      <td>0.050000</td>\n",
       "    </tr>\n",
       "    <tr>\n",
       "      <th>40</th>\n",
       "      <td>The Complete Financial Analyst Course 2017</td>\n",
       "      <td>174</td>\n",
       "      <td>10.0</td>\n",
       "      <td>0.057471</td>\n",
       "    </tr>\n",
       "    <tr>\n",
       "      <th>41</th>\n",
       "      <td>Python for Finance: Investment Fundamentals &amp; ...</td>\n",
       "      <td>103</td>\n",
       "      <td>6.5</td>\n",
       "      <td>0.063107</td>\n",
       "    </tr>\n",
       "    <tr>\n",
       "      <th>44</th>\n",
       "      <td>Black Algo Trading: Build Your Trading Robot</td>\n",
       "      <td>227</td>\n",
       "      <td>16.0</td>\n",
       "      <td>0.070485</td>\n",
       "    </tr>\n",
       "    <tr>\n",
       "      <th>...</th>\n",
       "      <td>...</td>\n",
       "      <td>...</td>\n",
       "      <td>...</td>\n",
       "      <td>...</td>\n",
       "    </tr>\n",
       "    <tr>\n",
       "      <th>3609</th>\n",
       "      <td>Querying Microsoft SQL Server 2012 - (Exam No....</td>\n",
       "      <td>115</td>\n",
       "      <td>6.5</td>\n",
       "      <td>0.056522</td>\n",
       "    </tr>\n",
       "    <tr>\n",
       "      <th>3647</th>\n",
       "      <td>17 Complete JavaScript   projects explained st...</td>\n",
       "      <td>106</td>\n",
       "      <td>9.5</td>\n",
       "      <td>0.089623</td>\n",
       "    </tr>\n",
       "    <tr>\n",
       "      <th>3652</th>\n",
       "      <td>Learn Bootstrap 4 The Most Popular HTML5 CSS3 ...</td>\n",
       "      <td>119</td>\n",
       "      <td>10.0</td>\n",
       "      <td>0.084034</td>\n",
       "    </tr>\n",
       "    <tr>\n",
       "      <th>3654</th>\n",
       "      <td>The Extreme Web Development Course - For Begin...</td>\n",
       "      <td>152</td>\n",
       "      <td>5.5</td>\n",
       "      <td>0.036184</td>\n",
       "    </tr>\n",
       "    <tr>\n",
       "      <th>3658</th>\n",
       "      <td>The Complete Web Developer Course - Build 20 W...</td>\n",
       "      <td>304</td>\n",
       "      <td>15.5</td>\n",
       "      <td>0.050987</td>\n",
       "    </tr>\n",
       "  </tbody>\n",
       "</table>\n",
       "<p>167 rows × 4 columns</p>\n",
       "</div>"
      ],
      "text/plain": [
       "                                           course_title  num_lectures  \\\n",
       "38    Beginner to Pro in Excel: Financial Modeling a...           138   \n",
       "39          The Complete Investment Banking Course 2017           110   \n",
       "40           The Complete Financial Analyst Course 2017           174   \n",
       "41    Python for Finance: Investment Fundamentals & ...           103   \n",
       "44         Black Algo Trading: Build Your Trading Robot           227   \n",
       "...                                                 ...           ...   \n",
       "3609  Querying Microsoft SQL Server 2012 - (Exam No....           115   \n",
       "3647  17 Complete JavaScript   projects explained st...           106   \n",
       "3652  Learn Bootstrap 4 The Most Popular HTML5 CSS3 ...           119   \n",
       "3654  The Extreme Web Development Course - For Begin...           152   \n",
       "3658  The Complete Web Developer Course - Build 20 W...           304   \n",
       "\n",
       "      content_duration  duration_per_lecture  \n",
       "38                 7.5              0.054348  \n",
       "39                 5.5              0.050000  \n",
       "40                10.0              0.057471  \n",
       "41                 6.5              0.063107  \n",
       "44                16.0              0.070485  \n",
       "...                ...                   ...  \n",
       "3609               6.5              0.056522  \n",
       "3647               9.5              0.089623  \n",
       "3652              10.0              0.084034  \n",
       "3654               5.5              0.036184  \n",
       "3658              15.5              0.050987  \n",
       "\n",
       "[167 rows x 4 columns]"
      ]
     },
     "metadata": {},
     "output_type": "display_data"
    }
   ],
   "source": [
    "suspicious_courses = df[(df['num_lectures']> upper_bound) & (df['duration_per_lecture'] < 0.1)]\n",
    "display(suspicious_courses[['course_title', 'num_lectures','content_duration','duration_per_lecture']])"
   ]
  },
  {
   "cell_type": "markdown",
   "id": "b4a45c5e-5cf5-4a30-b1f5-26e65ed82fdd",
   "metadata": {},
   "source": [
    "#### I have identified 167 entries that appear to be incorrect, which accounts for 4.5% of the entire dataset. Therefore, I have decided to remove them."
   ]
  },
  {
   "cell_type": "code",
   "execution_count": 296,
   "id": "55e9f526-d278-49a2-bea0-172bd8be9078",
   "metadata": {},
   "outputs": [],
   "source": [
    "df_cleaned = df.drop(suspicious_courses.index)"
   ]
  },
  {
   "cell_type": "code",
   "execution_count": 298,
   "id": "d92c0300-950d-415e-b37d-be6bb4fcd70d",
   "metadata": {},
   "outputs": [
    {
     "data": {
      "text/html": [
       "<div>\n",
       "<style scoped>\n",
       "    .dataframe tbody tr th:only-of-type {\n",
       "        vertical-align: middle;\n",
       "    }\n",
       "\n",
       "    .dataframe tbody tr th {\n",
       "        vertical-align: top;\n",
       "    }\n",
       "\n",
       "    .dataframe thead th {\n",
       "        text-align: right;\n",
       "    }\n",
       "</style>\n",
       "<table border=\"1\" class=\"dataframe\">\n",
       "  <thead>\n",
       "    <tr style=\"text-align: right;\">\n",
       "      <th></th>\n",
       "      <th>course_id</th>\n",
       "      <th>course_title</th>\n",
       "      <th>is_paid</th>\n",
       "      <th>price</th>\n",
       "      <th>num_subscribers</th>\n",
       "      <th>num_reviews</th>\n",
       "      <th>num_lectures</th>\n",
       "      <th>level</th>\n",
       "      <th>content_duration</th>\n",
       "      <th>published_timestamp</th>\n",
       "      <th>subject</th>\n",
       "      <th>duration_per_lecture</th>\n",
       "    </tr>\n",
       "  </thead>\n",
       "  <tbody>\n",
       "    <tr>\n",
       "      <th>0</th>\n",
       "      <td>1070968</td>\n",
       "      <td>Ultimate Investment Banking Course</td>\n",
       "      <td>True</td>\n",
       "      <td>200</td>\n",
       "      <td>2147</td>\n",
       "      <td>23</td>\n",
       "      <td>51</td>\n",
       "      <td>All Levels</td>\n",
       "      <td>1.5</td>\n",
       "      <td>2017-01-18 20:58:58+00:00</td>\n",
       "      <td>Business Finance</td>\n",
       "      <td>0.029412</td>\n",
       "    </tr>\n",
       "    <tr>\n",
       "      <th>1</th>\n",
       "      <td>1113822</td>\n",
       "      <td>Complete GST Course &amp; Certification - Grow You...</td>\n",
       "      <td>True</td>\n",
       "      <td>75</td>\n",
       "      <td>2792</td>\n",
       "      <td>923</td>\n",
       "      <td>274</td>\n",
       "      <td>All Levels</td>\n",
       "      <td>39.0</td>\n",
       "      <td>2017-03-09 16:34:20+00:00</td>\n",
       "      <td>Business Finance</td>\n",
       "      <td>0.142336</td>\n",
       "    </tr>\n",
       "    <tr>\n",
       "      <th>2</th>\n",
       "      <td>1006314</td>\n",
       "      <td>Financial Modeling for Business Analysts and C...</td>\n",
       "      <td>True</td>\n",
       "      <td>45</td>\n",
       "      <td>2174</td>\n",
       "      <td>74</td>\n",
       "      <td>51</td>\n",
       "      <td>Intermediate Level</td>\n",
       "      <td>2.5</td>\n",
       "      <td>2016-12-19 19:26:30+00:00</td>\n",
       "      <td>Business Finance</td>\n",
       "      <td>0.049020</td>\n",
       "    </tr>\n",
       "    <tr>\n",
       "      <th>3</th>\n",
       "      <td>1210588</td>\n",
       "      <td>Beginner to Pro - Financial Analysis in Excel ...</td>\n",
       "      <td>True</td>\n",
       "      <td>95</td>\n",
       "      <td>2451</td>\n",
       "      <td>11</td>\n",
       "      <td>36</td>\n",
       "      <td>All Levels</td>\n",
       "      <td>3.0</td>\n",
       "      <td>2017-05-30 20:07:24+00:00</td>\n",
       "      <td>Business Finance</td>\n",
       "      <td>0.083333</td>\n",
       "    </tr>\n",
       "    <tr>\n",
       "      <th>4</th>\n",
       "      <td>1011058</td>\n",
       "      <td>How To Maximize Your Profits Trading Options</td>\n",
       "      <td>True</td>\n",
       "      <td>200</td>\n",
       "      <td>1276</td>\n",
       "      <td>45</td>\n",
       "      <td>26</td>\n",
       "      <td>Intermediate Level</td>\n",
       "      <td>2.0</td>\n",
       "      <td>2016-12-13 14:57:18+00:00</td>\n",
       "      <td>Business Finance</td>\n",
       "      <td>0.076923</td>\n",
       "    </tr>\n",
       "  </tbody>\n",
       "</table>\n",
       "</div>"
      ],
      "text/plain": [
       "   course_id                                       course_title  is_paid  \\\n",
       "0    1070968                 Ultimate Investment Banking Course     True   \n",
       "1    1113822  Complete GST Course & Certification - Grow You...     True   \n",
       "2    1006314  Financial Modeling for Business Analysts and C...     True   \n",
       "3    1210588  Beginner to Pro - Financial Analysis in Excel ...     True   \n",
       "4    1011058       How To Maximize Your Profits Trading Options     True   \n",
       "\n",
       "   price  num_subscribers  num_reviews  num_lectures               level  \\\n",
       "0    200             2147           23            51          All Levels   \n",
       "1     75             2792          923           274          All Levels   \n",
       "2     45             2174           74            51  Intermediate Level   \n",
       "3     95             2451           11            36          All Levels   \n",
       "4    200             1276           45            26  Intermediate Level   \n",
       "\n",
       "   content_duration       published_timestamp           subject  \\\n",
       "0               1.5 2017-01-18 20:58:58+00:00  Business Finance   \n",
       "1              39.0 2017-03-09 16:34:20+00:00  Business Finance   \n",
       "2               2.5 2016-12-19 19:26:30+00:00  Business Finance   \n",
       "3               3.0 2017-05-30 20:07:24+00:00  Business Finance   \n",
       "4               2.0 2016-12-13 14:57:18+00:00  Business Finance   \n",
       "\n",
       "   duration_per_lecture  \n",
       "0              0.029412  \n",
       "1              0.142336  \n",
       "2              0.049020  \n",
       "3              0.083333  \n",
       "4              0.076923  "
      ]
     },
     "execution_count": 298,
     "metadata": {},
     "output_type": "execute_result"
    }
   ],
   "source": [
    "df_cleaned.head()"
   ]
  },
  {
   "cell_type": "code",
   "execution_count": 300,
   "id": "62150711-ef7c-47be-b26b-978348db5df7",
   "metadata": {},
   "outputs": [
    {
     "data": {
      "text/html": [
       "<div>\n",
       "<style scoped>\n",
       "    .dataframe tbody tr th:only-of-type {\n",
       "        vertical-align: middle;\n",
       "    }\n",
       "\n",
       "    .dataframe tbody tr th {\n",
       "        vertical-align: top;\n",
       "    }\n",
       "\n",
       "    .dataframe thead th {\n",
       "        text-align: right;\n",
       "    }\n",
       "</style>\n",
       "<table border=\"1\" class=\"dataframe\">\n",
       "  <thead>\n",
       "    <tr style=\"text-align: right;\">\n",
       "      <th></th>\n",
       "      <th>course_id</th>\n",
       "      <th>price</th>\n",
       "      <th>num_subscribers</th>\n",
       "      <th>num_reviews</th>\n",
       "      <th>num_lectures</th>\n",
       "      <th>content_duration</th>\n",
       "      <th>duration_per_lecture</th>\n",
       "    </tr>\n",
       "  </thead>\n",
       "  <tbody>\n",
       "    <tr>\n",
       "      <th>count</th>\n",
       "      <td>3.503000e+03</td>\n",
       "      <td>3503.000000</td>\n",
       "      <td>3503.000000</td>\n",
       "      <td>3503.000000</td>\n",
       "      <td>3503.000000</td>\n",
       "      <td>3503.000000</td>\n",
       "      <td>3503.000000</td>\n",
       "    </tr>\n",
       "    <tr>\n",
       "      <th>mean</th>\n",
       "      <td>6.765338e+05</td>\n",
       "      <td>64.209249</td>\n",
       "      <td>3082.172709</td>\n",
       "      <td>137.869540</td>\n",
       "      <td>33.970882</td>\n",
       "      <td>3.749895</td>\n",
       "      <td>0.109371</td>\n",
       "    </tr>\n",
       "    <tr>\n",
       "      <th>std</th>\n",
       "      <td>3.437386e+05</td>\n",
       "      <td>60.127434</td>\n",
       "      <td>9309.096520</td>\n",
       "      <td>862.788023</td>\n",
       "      <td>36.909180</td>\n",
       "      <td>5.724359</td>\n",
       "      <td>0.076259</td>\n",
       "    </tr>\n",
       "    <tr>\n",
       "      <th>min</th>\n",
       "      <td>8.324000e+03</td>\n",
       "      <td>0.000000</td>\n",
       "      <td>0.000000</td>\n",
       "      <td>0.000000</td>\n",
       "      <td>4.000000</td>\n",
       "      <td>0.133333</td>\n",
       "      <td>0.011628</td>\n",
       "    </tr>\n",
       "    <tr>\n",
       "      <th>25%</th>\n",
       "      <td>4.068710e+05</td>\n",
       "      <td>20.000000</td>\n",
       "      <td>104.000000</td>\n",
       "      <td>4.000000</td>\n",
       "      <td>14.000000</td>\n",
       "      <td>1.000000</td>\n",
       "      <td>0.068182</td>\n",
       "    </tr>\n",
       "    <tr>\n",
       "      <th>50%</th>\n",
       "      <td>6.898680e+05</td>\n",
       "      <td>40.000000</td>\n",
       "      <td>876.000000</td>\n",
       "      <td>17.000000</td>\n",
       "      <td>24.000000</td>\n",
       "      <td>2.000000</td>\n",
       "      <td>0.094828</td>\n",
       "    </tr>\n",
       "    <tr>\n",
       "      <th>75%</th>\n",
       "      <td>9.605560e+05</td>\n",
       "      <td>95.000000</td>\n",
       "      <td>2472.000000</td>\n",
       "      <td>61.000000</td>\n",
       "      <td>41.000000</td>\n",
       "      <td>4.000000</td>\n",
       "      <td>0.133333</td>\n",
       "    </tr>\n",
       "    <tr>\n",
       "      <th>max</th>\n",
       "      <td>1.282064e+06</td>\n",
       "      <td>200.000000</td>\n",
       "      <td>268923.000000</td>\n",
       "      <td>27445.000000</td>\n",
       "      <td>527.000000</td>\n",
       "      <td>78.500000</td>\n",
       "      <td>2.121212</td>\n",
       "    </tr>\n",
       "  </tbody>\n",
       "</table>\n",
       "</div>"
      ],
      "text/plain": [
       "          course_id        price  num_subscribers   num_reviews  num_lectures  \\\n",
       "count  3.503000e+03  3503.000000      3503.000000   3503.000000   3503.000000   \n",
       "mean   6.765338e+05    64.209249      3082.172709    137.869540     33.970882   \n",
       "std    3.437386e+05    60.127434      9309.096520    862.788023     36.909180   \n",
       "min    8.324000e+03     0.000000         0.000000      0.000000      4.000000   \n",
       "25%    4.068710e+05    20.000000       104.000000      4.000000     14.000000   \n",
       "50%    6.898680e+05    40.000000       876.000000     17.000000     24.000000   \n",
       "75%    9.605560e+05    95.000000      2472.000000     61.000000     41.000000   \n",
       "max    1.282064e+06   200.000000    268923.000000  27445.000000    527.000000   \n",
       "\n",
       "       content_duration  duration_per_lecture  \n",
       "count       3503.000000           3503.000000  \n",
       "mean           3.749895              0.109371  \n",
       "std            5.724359              0.076259  \n",
       "min            0.133333              0.011628  \n",
       "25%            1.000000              0.068182  \n",
       "50%            2.000000              0.094828  \n",
       "75%            4.000000              0.133333  \n",
       "max           78.500000              2.121212  "
      ]
     },
     "execution_count": 300,
     "metadata": {},
     "output_type": "execute_result"
    }
   ],
   "source": [
    "df_cleaned.describe()"
   ]
  },
  {
   "cell_type": "markdown",
   "id": "2ecd4850-bbc1-4e29-befd-a085c79829bf",
   "metadata": {},
   "source": [
    "# 4. Data Analysis and Visualizations"
   ]
  },
  {
   "cell_type": "markdown",
   "id": "e9a7584a-dc15-4f2b-b923-53e699e173e5",
   "metadata": {},
   "source": [
    "### I want to analyze the pricing distribution to determine whether most courses are free or paid."
   ]
  },
  {
   "cell_type": "code",
   "execution_count": 308,
   "id": "130586d6-3a55-451a-ad81-6460b812e9a7",
   "metadata": {},
   "outputs": [
    {
     "name": "stderr",
     "output_type": "stream",
     "text": [
      "/opt/anaconda3/lib/python3.11/site-packages/seaborn/_oldcore.py:1119: FutureWarning: use_inf_as_na option is deprecated and will be removed in a future version. Convert inf values to NaN before operating instead.\n",
      "  with pd.option_context('mode.use_inf_as_na', True):\n"
     ]
    },
    {
     "data": {
      "image/png": "[encoded data removed]",
      "text/plain": [
       "<Figure size 800x500 with 1 Axes>"
      ]
     },
     "metadata": {},
     "output_type": "display_data"
    }
   ],
   "source": [
    "plt.figure(figsize=(8,5))\n",
    "sns.histplot(df_cleaned['price'], bins=30, kde=True)\n",
    "plt.xlabel(\"Course Price\")\n",
    "plt.ylabel(\"Count of Courses\")\n",
    "plt.title(\"Distribution of Courses Prices\")\n",
    "plt.show()"
   ]
  },
  {
   "cell_type": "markdown",
   "id": "7bc962fe-d45e-489e-ac44-4cc10a728864",
   "metadata": {},
   "source": [
    "#### The price distribution visualization shows that most Udemy courses are priced at 25, with additional peaks at 50 and 200. There is also a significant number of free courses (0), suggesting that Udemy offers many promotional or introductory courses. The mid-range pricing between 75 and 150 has noticeably fewer courses, indicating a preference for either budget-friendly or premium-tier pricing. The clear pricing tiers suggest that Udemy follows a structured pricing strategy, and the $200 price spike likely represents high-end or specialized courses.\n",
    "#### I want to group the pricing and to see how many courses are in each group, since the courses are withing 0 to 200, I follow the logic below:\n",
    "#### Price Ranga/ Category Name\n",
    "#### Free(0)/ Free\n",
    "#### 1-25 / Very Cheap\n",
    "#### 26-50 / Affordable\n",
    "#### 51-100 / Moderate\n",
    "#### 101- 150 / Expensive\n",
    "#### 151-200+ / Very Expensive"
   ]
  },
  {
   "cell_type": "code",
   "execution_count": 310,
   "id": "7a00c7f4-549e-4276-86f0-7f49cd01b931",
   "metadata": {},
   "outputs": [
    {
     "data": {
      "text/plain": [
       "price_category\n",
       "Moderate          892\n",
       "Very Cheap        813\n",
       "Affordable        717\n",
       "Very Expensive    516\n",
       "Free              307\n",
       "Expensive         258\n",
       "Name: count, dtype: int64"
      ]
     },
     "metadata": {},
     "output_type": "display_data"
    }
   ],
   "source": [
    "# Define bin labels\n",
    "price_bins = [0 ,1 , 25, 50, 100, 150, 201]\n",
    "price_labels = [\"Free\", \"Very Cheap\", \"Affordable\", \"Moderate\", \"Expensive\", \"Very Expensive\"]\n",
    "\n",
    "# Categorize price labels with price bins\n",
    "df_cleaned['price_category'] = pd.cut(df_cleaned['price'], bins=price_bins, labels=price_labels, right=False)\n",
    "\n",
    "# count courses in each price category\n",
    "price_distribution = df_cleaned['price_category'].value_counts() \n",
    "display(price_distribution)"
   ]
  },
  {
   "cell_type": "code",
   "execution_count": 312,
   "id": "d95fe873-230d-4d27-a7ef-47ad1c3a144e",
   "metadata": {},
   "outputs": [
    {
     "data": {
      "image/png": "[encoded data removed]",
      "text/plain": [
       "<Figure size 800x500 with 1 Axes>"
      ]
     },
     "metadata": {},
     "output_type": "display_data"
    }
   ],
   "source": [
    "plt.figure(figsize=(8,5))\n",
    "price_distribution.sort_index().plot(kind= 'bar', color='skyblue')\n",
    "\n",
    "plt.xlabel(\"Price Category\")\n",
    "plt.ylabel(\"Number of Courses\")\n",
    "plt.title(\"Number of Courses in Each Price Category\")\n",
    "plt.xticks(rotation=45)\n",
    "plt.show()"
   ]
  },
  {
   "cell_type": "markdown",
   "id": "b52284a1-c0fa-4843-b4bd-753cf8858378",
   "metadata": {},
   "source": [
    "#### The visualization shows that most courses are in the Moderate, Very Cheap, and Affordable categories, with Moderate-priced courses being the most common. Free courses are present but fewer than paid ones, while Expensive courses are the least common, indicating Udemy's focus on budget-friendly pricing with some premium offerings.\n",
    "#### Now I want to see which category has the most subscribers"
   ]
  },
  {
   "cell_type": "code",
   "execution_count": 314,
   "id": "cc531566-edd8-477c-b696-897828a06999",
   "metadata": {},
   "outputs": [
    {
     "name": "stderr",
     "output_type": "stream",
     "text": [
      "/var/folders/hq/_gnsfjyd47q9z3ll9llqlfpw0000gn/T/ipykernel_21632/985012189.py:2: FutureWarning: The default of observed=False is deprecated and will be changed to True in a future version of pandas. Pass observed=False to retain current behavior or observed=True to adopt the future default and silence this warning.\n",
      "  subscribers_per_price_category = df_cleaned.groupby('price_category')['num_subscribers'].sum().sort_values(ascending=False)\n",
      "/opt/anaconda3/lib/python3.11/site-packages/seaborn/categorical.py:641: FutureWarning: The default of observed=False is deprecated and will be changed to True in a future version of pandas. Pass observed=False to retain current behavior or observed=True to adopt the future default and silence this warning.\n",
      "  grouped_vals = vals.groupby(grouper)\n"
     ]
    },
    {
     "data": {
      "image/png": "[encoded data removed]",
      "text/plain": [
       "<Figure size 800x500 with 1 Axes>"
      ]
     },
     "metadata": {},
     "output_type": "display_data"
    }
   ],
   "source": [
    "# Aggregate total subscribers per price category\n",
    "subscribers_per_price_category = df_cleaned.groupby('price_category')['num_subscribers'].sum().sort_values(ascending=False)\n",
    "\n",
    "# Plot\n",
    "plt.figure(figsize=(8,5))\n",
    "sns.barplot(x=subscribers_per_price_category.index, y=subscribers_per_price_category.values, palette=\"viridis\")\n",
    "\n",
    "plt.xlabel(\"Price Category\")\n",
    "plt.ylabel(\"Total Subscribers\")\n",
    "plt.title(\"Popularity of Price Categories Based on Total Subscribers\")\n",
    "plt.xticks(rotation=45)\n",
    "plt.show()"
   ]
  },
  {
   "cell_type": "markdown",
   "id": "53896de7-f5e7-44df-abcc-67a19c237433",
   "metadata": {},
   "source": [
    "#### At this stage, I want to identify which subjects have the highest number of subscribers."
   ]
  },
  {
   "cell_type": "code",
   "execution_count": 317,
   "id": "da880777-9f24-42e6-a746-6ba9fc92205c",
   "metadata": {},
   "outputs": [
    {
     "data": {
      "text/plain": [
       "subject\n",
       "Web Development        7415610\n",
       "Business Finance       1745705\n",
       "Graphic Design         1041065\n",
       "Musical Instruments     594471\n",
       "Name: num_subscribers, dtype: int64"
      ]
     },
     "metadata": {},
     "output_type": "display_data"
    }
   ],
   "source": [
    "# Aggregate total subscribers per subject\n",
    "subscribers_per_subject = df_cleaned.groupby('subject')['num_subscribers'].sum().sort_values(ascending=False)\n",
    "display(subscribers_per_subject)"
   ]
  },
  {
   "cell_type": "code",
   "execution_count": 319,
   "id": "3b9bf381-7121-4e3a-858d-a73f819eb1f7",
   "metadata": {},
   "outputs": [
    {
     "data": {
      "text/plain": [
       "<function matplotlib.pyplot.show(close=None, block=None)>"
      ]
     },
     "execution_count": 319,
     "metadata": {},
     "output_type": "execute_result"
    },
    {
     "data": {
      "image/png": "[encoded data removed]",
      "text/plain": [
       "<Figure size 800x500 with 1 Axes>"
      ]
     },
     "metadata": {},
     "output_type": "display_data"
    }
   ],
   "source": [
    "plt.figure(figsize=(8,5))\n",
    "sns.barplot(x=subscribers_per_subject.index, y=subscribers_per_subject.values, color= 'skyblue')\n",
    "plt.xlabel(\"Subject\")\n",
    "plt.ylabel(\"Total Subscribers\")\n",
    "plt.title(\"Total Subscribers per Subject\")\n",
    "plt.xticks(rotation=45)\n",
    "plt.show"
   ]
  },
  {
   "cell_type": "markdown",
   "id": "182c8efd-526e-46fb-9582-d636bed3152d",
   "metadata": {},
   "source": [
    "#### The visualization shows that free courses attract the highest number of subscribers, followed by very expensive and moderate-priced courses. Lower-priced courses have fewer subscribers, while expensive courses have the least, suggesting that users either prefer free content or are willing to invest in premium courses.\n",
    "#### Now, I want to analyze the price category for each subject to determine whether the distribution is even or if certain subjects have more free courses."
   ]
  },
  {
   "cell_type": "code",
   "execution_count": 322,
   "id": "aae2ae6b-cafe-4315-98d8-66c36627bd0d",
   "metadata": {},
   "outputs": [
    {
     "data": {
      "text/html": [
       "<div>\n",
       "<style scoped>\n",
       "    .dataframe tbody tr th:only-of-type {\n",
       "        vertical-align: middle;\n",
       "    }\n",
       "\n",
       "    .dataframe tbody tr th {\n",
       "        vertical-align: top;\n",
       "    }\n",
       "\n",
       "    .dataframe thead th {\n",
       "        text-align: right;\n",
       "    }\n",
       "</style>\n",
       "<table border=\"1\" class=\"dataframe\">\n",
       "  <thead>\n",
       "    <tr style=\"text-align: right;\">\n",
       "      <th>price_category</th>\n",
       "      <th>Free</th>\n",
       "      <th>Very Cheap</th>\n",
       "      <th>Affordable</th>\n",
       "      <th>Moderate</th>\n",
       "      <th>Expensive</th>\n",
       "      <th>Very Expensive</th>\n",
       "    </tr>\n",
       "    <tr>\n",
       "      <th>subject</th>\n",
       "      <th></th>\n",
       "      <th></th>\n",
       "      <th></th>\n",
       "      <th></th>\n",
       "      <th></th>\n",
       "      <th></th>\n",
       "    </tr>\n",
       "  </thead>\n",
       "  <tbody>\n",
       "    <tr>\n",
       "      <th>Business Finance</th>\n",
       "      <td>95</td>\n",
       "      <td>294</td>\n",
       "      <td>201</td>\n",
       "      <td>298</td>\n",
       "      <td>72</td>\n",
       "      <td>199</td>\n",
       "    </tr>\n",
       "    <tr>\n",
       "      <th>Graphic Design</th>\n",
       "      <td>35</td>\n",
       "      <td>199</td>\n",
       "      <td>137</td>\n",
       "      <td>102</td>\n",
       "      <td>39</td>\n",
       "      <td>74</td>\n",
       "    </tr>\n",
       "    <tr>\n",
       "      <th>Musical Instruments</th>\n",
       "      <td>45</td>\n",
       "      <td>140</td>\n",
       "      <td>188</td>\n",
       "      <td>204</td>\n",
       "      <td>29</td>\n",
       "      <td>28</td>\n",
       "    </tr>\n",
       "    <tr>\n",
       "      <th>Web Development</th>\n",
       "      <td>132</td>\n",
       "      <td>180</td>\n",
       "      <td>191</td>\n",
       "      <td>288</td>\n",
       "      <td>118</td>\n",
       "      <td>215</td>\n",
       "    </tr>\n",
       "  </tbody>\n",
       "</table>\n",
       "</div>"
      ],
      "text/plain": [
       "price_category       Free  Very Cheap  Affordable  Moderate  Expensive  \\\n",
       "subject                                                                  \n",
       "Business Finance       95         294         201       298         72   \n",
       "Graphic Design         35         199         137       102         39   \n",
       "Musical Instruments    45         140         188       204         29   \n",
       "Web Development       132         180         191       288        118   \n",
       "\n",
       "price_category       Very Expensive  \n",
       "subject                              \n",
       "Business Finance                199  \n",
       "Graphic Design                   74  \n",
       "Musical Instruments              28  \n",
       "Web Development                 215  "
      ]
     },
     "metadata": {},
     "output_type": "display_data"
    }
   ],
   "source": [
    "# Agrregate price category for each subject\n",
    "price_category_per_subject = df_cleaned.groupby('subject')['price_category'].value_counts().unstack()\n",
    "display(price_category_per_subject)"
   ]
  },
  {
   "cell_type": "code",
   "execution_count": 324,
   "id": "a2457cd7-31fc-41e2-a628-ec57dd00c06d",
   "metadata": {},
   "outputs": [
    {
     "data": {
      "image/png": "[encoded data removed]",
      "text/plain": [
       "<Figure size 1000x600 with 1 Axes>"
      ]
     },
     "metadata": {},
     "output_type": "display_data"
    }
   ],
   "source": [
    "price_category_per_subject.plot(kind='bar', stacked=True, figsize=(10,6), colormap=\"viridis\")\n",
    "plt.xlabel(\"Subject\")\n",
    "plt.ylabel(\"Number of Courses\")\n",
    "plt.title(\"Distribution of Price Categories per Subject\")\n",
    "plt.xticks(rotation= 45)\n",
    "plt.legend(title= \"Price Category\")\n",
    "plt.show()"
   ]
  },
  {
   "cell_type": "markdown",
   "id": "4142a446-e457-4e3b-8b16-ce940ceb9ebb",
   "metadata": {},
   "source": [
    "#### The visualization shows that Business Finance and Web Development have the highest number of courses across all price categories, with a significant portion in the Very Expensive and Moderate ranges. Graphic Design and Musical Instruments have fewer courses overall, with a higher concentration in affordable and very cheap categories. This suggests that pricing strategies vary by subject, with technical and business courses more likely to be priced at a premium.\n",
    "#### To gain a better perspective, I want to analyze how many courses belong to each subject category."
   ]
  },
  {
   "cell_type": "code",
   "execution_count": 146,
   "id": "881c9c97-84b7-41a5-86fe-11d8c695cf27",
   "metadata": {},
   "outputs": [
    {
     "data": {
      "image/png": "[encoded data removed]",
      "text/plain": [
       "<Figure size 800x500 with 1 Axes>"
      ]
     },
     "metadata": {},
     "output_type": "display_data"
    }
   ],
   "source": [
    "courses_per_subject = df_cleaned['subject'].value_counts()\n",
    "plt.figure(figsize=(8,5))\n",
    "sns.barplot(x=courses_per_subject.index, y=courses_per_subject.values, palette=\"coolwarm\")\n",
    "\n",
    "plt.xlabel(\"Subject\")\n",
    "plt.ylabel(\"Number of Courses\")\n",
    "plt.title(\"Number of Courses per Subject\")\n",
    "plt.xticks(rotation=45)\n",
    "plt.show()"
   ]
  },
  {
   "cell_type": "markdown",
   "id": "575c6b97-f7d4-4c79-bf25-d98fcf75cd93",
   "metadata": {},
   "source": [
    "#### As Expected Business Finance and Web Development has the highest number courses."
   ]
  },
  {
   "cell_type": "markdown",
   "id": "f85e59dd-04c4-45e5-b4e3-a06f3a3ce0bf",
   "metadata": {},
   "source": [
    "# 5. Export Cleaned Data for Tableau"
   ]
  },
  {
   "cell_type": "code",
   "execution_count": 332,
   "id": "5612f9c6-7488-457b-a7ed-a77811034a04",
   "metadata": {},
   "outputs": [
    {
     "name": "stdout",
     "output_type": "stream",
     "text": [
      "✅ File exported successfully to: /Users/fatemehshahvirdi/Downloads/df_cleaned.csv\n"
     ]
    }
   ],
   "source": [
    "filename = \"df_cleaned.csv\"\n",
    "\n",
    "# Detect downloads folder\n",
    "downloads_folder = os.path.join(os.path.expanduser(\"~\"), \"Downloads\")\n",
    "\n",
    "# Create full path\n",
    "export_path = os.path.join(downloads_folder, filename)\n",
    "\n",
    "# Export to CSV\n",
    "df_cleaned.to_csv(export_path, index=False)\n",
    "\n",
    "print(f\"✅ File exported successfully to: {export_path}\")"
   ]
  },
  {
   "cell_type": "markdown",
   "id": "9b6ac6bb-8f0e-41a6-adff-15a8bcd62072",
   "metadata": {},
   "source": [
    "#### I want to explore the relationship between other variables, such as the number of reviews and the number of subscribers, to analyze their correlation. For further visualization and analysis, I will use Tableau."
   ]
  }
 ],
 "metadata": {
  "kernelspec": {
   "display_name": "Python [conda env:base] *",
   "language": "python",
   "name": "conda-base-py"
  },
  "language_info": {
   "codemirror_mode": {
    "name": "ipython",
    "version": 3
   },
   "file_extension": ".py",
   "mimetype": "text/x-python",
   "name": "python",
   "nbconvert_exporter": "python",
   "pygments_lexer": "ipython3",
   "version": "3.11.7"
  }
 },
 "nbformat": 4,
 "nbformat_minor": 5
}
